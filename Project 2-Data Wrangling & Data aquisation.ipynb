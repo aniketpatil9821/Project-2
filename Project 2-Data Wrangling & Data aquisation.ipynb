{
 "cells": [
  {
   "cell_type": "code",
   "execution_count": 1,
   "id": "fda90c7d",
   "metadata": {},
   "outputs": [],
   "source": [
    "import pandas as pd\n",
    "import numpy as np\n",
    "import matplotlib.pyplot as plt\n",
    "import seaborn as sns\n",
    "from scipy import stats\n",
    "import warnings\n",
    "warnings.filterwarnings(\"ignore\")"
   ]
  },
  {
   "cell_type": "markdown",
   "id": "871b1a56",
   "metadata": {},
   "source": [
    "# Dataset_1"
   ]
  },
  {
   "cell_type": "code",
   "execution_count": 2,
   "id": "3b68c0ff",
   "metadata": {},
   "outputs": [
    {
     "data": {
      "text/html": [
       "<div>\n",
       "<style scoped>\n",
       "    .dataframe tbody tr th:only-of-type {\n",
       "        vertical-align: middle;\n",
       "    }\n",
       "\n",
       "    .dataframe tbody tr th {\n",
       "        vertical-align: top;\n",
       "    }\n",
       "\n",
       "    .dataframe thead th {\n",
       "        text-align: right;\n",
       "    }\n",
       "</style>\n",
       "<table border=\"1\" class=\"dataframe\">\n",
       "  <thead>\n",
       "    <tr style=\"text-align: right;\">\n",
       "      <th></th>\n",
       "      <th>instant</th>\n",
       "      <th>dteday</th>\n",
       "      <th>season</th>\n",
       "      <th>yr</th>\n",
       "      <th>mnth</th>\n",
       "      <th>hr</th>\n",
       "      <th>holiday</th>\n",
       "      <th>weekday</th>\n",
       "      <th>weathersit</th>\n",
       "      <th>temp</th>\n",
       "    </tr>\n",
       "  </thead>\n",
       "  <tbody>\n",
       "    <tr>\n",
       "      <th>0</th>\n",
       "      <td>1</td>\n",
       "      <td>2011-01-01</td>\n",
       "      <td>1</td>\n",
       "      <td>0</td>\n",
       "      <td>1</td>\n",
       "      <td>0</td>\n",
       "      <td>False</td>\n",
       "      <td>6</td>\n",
       "      <td>1</td>\n",
       "      <td>0.24</td>\n",
       "    </tr>\n",
       "    <tr>\n",
       "      <th>1</th>\n",
       "      <td>2</td>\n",
       "      <td>2011-01-01</td>\n",
       "      <td>1</td>\n",
       "      <td>0</td>\n",
       "      <td>1</td>\n",
       "      <td>1</td>\n",
       "      <td>False</td>\n",
       "      <td>6</td>\n",
       "      <td>1</td>\n",
       "      <td>0.22</td>\n",
       "    </tr>\n",
       "    <tr>\n",
       "      <th>2</th>\n",
       "      <td>3</td>\n",
       "      <td>2011-01-01</td>\n",
       "      <td>1</td>\n",
       "      <td>0</td>\n",
       "      <td>1</td>\n",
       "      <td>2</td>\n",
       "      <td>False</td>\n",
       "      <td>6</td>\n",
       "      <td>1</td>\n",
       "      <td>0.22</td>\n",
       "    </tr>\n",
       "    <tr>\n",
       "      <th>3</th>\n",
       "      <td>4</td>\n",
       "      <td>2011-01-01</td>\n",
       "      <td>1</td>\n",
       "      <td>0</td>\n",
       "      <td>1</td>\n",
       "      <td>3</td>\n",
       "      <td>False</td>\n",
       "      <td>6</td>\n",
       "      <td>1</td>\n",
       "      <td>0.24</td>\n",
       "    </tr>\n",
       "    <tr>\n",
       "      <th>4</th>\n",
       "      <td>5</td>\n",
       "      <td>2011-01-01</td>\n",
       "      <td>1</td>\n",
       "      <td>0</td>\n",
       "      <td>1</td>\n",
       "      <td>4</td>\n",
       "      <td>False</td>\n",
       "      <td>6</td>\n",
       "      <td>1</td>\n",
       "      <td>0.24</td>\n",
       "    </tr>\n",
       "  </tbody>\n",
       "</table>\n",
       "</div>"
      ],
      "text/plain": [
       "   instant     dteday  season  yr  mnth  hr  holiday  weekday  weathersit  \\\n",
       "0        1 2011-01-01       1   0     1   0    False        6           1   \n",
       "1        2 2011-01-01       1   0     1   1    False        6           1   \n",
       "2        3 2011-01-01       1   0     1   2    False        6           1   \n",
       "3        4 2011-01-01       1   0     1   3    False        6           1   \n",
       "4        5 2011-01-01       1   0     1   4    False        6           1   \n",
       "\n",
       "   temp  \n",
       "0  0.24  \n",
       "1  0.22  \n",
       "2  0.22  \n",
       "3  0.24  \n",
       "4  0.24  "
      ]
     },
     "execution_count": 2,
     "metadata": {},
     "output_type": "execute_result"
    }
   ],
   "source": [
    "#reading dataset 1\n",
    "df1=pd.read_excel(\"dataset_1.xlsx\")\n",
    "df1.head()"
   ]
  },
  {
   "cell_type": "code",
   "execution_count": 3,
   "id": "4e8fd396",
   "metadata": {},
   "outputs": [
    {
     "data": {
      "text/plain": [
       "(610, 10)"
      ]
     },
     "execution_count": 3,
     "metadata": {},
     "output_type": "execute_result"
    }
   ],
   "source": [
    "#Checking the shape of the dataset1\n",
    "df1.shape"
   ]
  },
  {
   "cell_type": "code",
   "execution_count": 4,
   "id": "2eb6c42d",
   "metadata": {},
   "outputs": [
    {
     "data": {
      "text/plain": [
       "Index(['instant', 'dteday', 'season', 'yr', 'mnth', 'hr', 'holiday', 'weekday',\n",
       "       'weathersit', 'temp'],\n",
       "      dtype='object')"
      ]
     },
     "execution_count": 4,
     "metadata": {},
     "output_type": "execute_result"
    }
   ],
   "source": [
    "#checking columns present in df1\n",
    "df1.columns"
   ]
  },
  {
   "cell_type": "code",
   "execution_count": 5,
   "id": "91d566bc",
   "metadata": {},
   "outputs": [
    {
     "data": {
      "text/plain": [
       "array([1], dtype=int64)"
      ]
     },
     "execution_count": 5,
     "metadata": {},
     "output_type": "execute_result"
    }
   ],
   "source": [
    "#checking unique values in df1\n",
    "df1['season'].unique()"
   ]
  },
  {
   "cell_type": "code",
   "execution_count": 6,
   "id": "0000c48a",
   "metadata": {},
   "outputs": [
    {
     "data": {
      "text/plain": [
       "array([0], dtype=int64)"
      ]
     },
     "execution_count": 6,
     "metadata": {},
     "output_type": "execute_result"
    }
   ],
   "source": [
    "df1['yr'].unique()"
   ]
  },
  {
   "cell_type": "code",
   "execution_count": 7,
   "id": "108ed296",
   "metadata": {},
   "outputs": [
    {
     "data": {
      "text/plain": [
       "array([1], dtype=int64)"
      ]
     },
     "execution_count": 7,
     "metadata": {},
     "output_type": "execute_result"
    }
   ],
   "source": [
    "df1['mnth'].unique()"
   ]
  },
  {
   "cell_type": "code",
   "execution_count": 8,
   "id": "7eee250e",
   "metadata": {},
   "outputs": [
    {
     "data": {
      "text/plain": [
       "array([ 0,  1,  2,  3,  4,  5,  6,  7,  8,  9, 10, 11, 12, 13, 14, 15, 16,\n",
       "       17, 18, 19, 20, 21, 22, 23], dtype=int64)"
      ]
     },
     "execution_count": 8,
     "metadata": {},
     "output_type": "execute_result"
    }
   ],
   "source": [
    "df1['hr'].unique()"
   ]
  },
  {
   "cell_type": "code",
   "execution_count": 9,
   "id": "25b4798f",
   "metadata": {},
   "outputs": [
    {
     "data": {
      "text/plain": [
       "array([False,  True])"
      ]
     },
     "execution_count": 9,
     "metadata": {},
     "output_type": "execute_result"
    }
   ],
   "source": [
    "df1['holiday'].unique()"
   ]
  },
  {
   "cell_type": "code",
   "execution_count": 10,
   "id": "8be27a07",
   "metadata": {},
   "outputs": [
    {
     "data": {
      "text/plain": [
       "array([6, 0, 1, 2, 3, 4, 5], dtype=int64)"
      ]
     },
     "execution_count": 10,
     "metadata": {},
     "output_type": "execute_result"
    }
   ],
   "source": [
    "df1['weekday'].unique()"
   ]
  },
  {
   "cell_type": "code",
   "execution_count": 11,
   "id": "a0bb78e7",
   "metadata": {},
   "outputs": [
    {
     "data": {
      "text/plain": [
       "array([1, 2, 3, 4], dtype=int64)"
      ]
     },
     "execution_count": 11,
     "metadata": {},
     "output_type": "execute_result"
    }
   ],
   "source": [
    "df1['weathersit'].unique()"
   ]
  },
  {
   "cell_type": "code",
   "execution_count": 12,
   "id": "4f9f8eac",
   "metadata": {},
   "outputs": [
    {
     "data": {
      "text/plain": [
       "array([0.24, 0.22, 0.2 , 0.32, 0.38, 0.36, 0.42, 0.46, 0.44, 0.4 , 0.34,\n",
       "       0.3 , 0.26, 0.16, 0.14, 0.18, 0.12, 0.28, 0.1 , 0.08, 0.06, 0.04,\n",
       "       0.02])"
      ]
     },
     "execution_count": 12,
     "metadata": {},
     "output_type": "execute_result"
    }
   ],
   "source": [
    "df1['temp'].unique()"
   ]
  },
  {
   "cell_type": "code",
   "execution_count": 13,
   "id": "4e9d0e78",
   "metadata": {},
   "outputs": [
    {
     "name": "stdout",
     "output_type": "stream",
     "text": [
      "<class 'pandas.core.frame.DataFrame'>\n",
      "RangeIndex: 610 entries, 0 to 609\n",
      "Data columns (total 10 columns):\n",
      " #   Column      Non-Null Count  Dtype         \n",
      "---  ------      --------------  -----         \n",
      " 0   instant     610 non-null    int64         \n",
      " 1   dteday      610 non-null    datetime64[ns]\n",
      " 2   season      610 non-null    int64         \n",
      " 3   yr          610 non-null    int64         \n",
      " 4   mnth        610 non-null    int64         \n",
      " 5   hr          610 non-null    int64         \n",
      " 6   holiday     610 non-null    bool          \n",
      " 7   weekday     610 non-null    int64         \n",
      " 8   weathersit  610 non-null    int64         \n",
      " 9   temp        610 non-null    float64       \n",
      "dtypes: bool(1), datetime64[ns](1), float64(1), int64(7)\n",
      "memory usage: 43.6 KB\n"
     ]
    }
   ],
   "source": [
    "# Checking info and datatypes\n",
    "df1.info()"
   ]
  },
  {
   "cell_type": "code",
   "execution_count": 14,
   "id": "8009fc5a",
   "metadata": {},
   "outputs": [
    {
     "data": {
      "text/html": [
       "<div>\n",
       "<style scoped>\n",
       "    .dataframe tbody tr th:only-of-type {\n",
       "        vertical-align: middle;\n",
       "    }\n",
       "\n",
       "    .dataframe tbody tr th {\n",
       "        vertical-align: top;\n",
       "    }\n",
       "\n",
       "    .dataframe thead th {\n",
       "        text-align: right;\n",
       "    }\n",
       "</style>\n",
       "<table border=\"1\" class=\"dataframe\">\n",
       "  <thead>\n",
       "    <tr style=\"text-align: right;\">\n",
       "      <th></th>\n",
       "      <th>instant</th>\n",
       "      <th>season</th>\n",
       "      <th>yr</th>\n",
       "      <th>mnth</th>\n",
       "      <th>hr</th>\n",
       "      <th>weekday</th>\n",
       "      <th>weathersit</th>\n",
       "      <th>temp</th>\n",
       "    </tr>\n",
       "  </thead>\n",
       "  <tbody>\n",
       "    <tr>\n",
       "      <th>count</th>\n",
       "      <td>610.000000</td>\n",
       "      <td>610.0</td>\n",
       "      <td>610.0</td>\n",
       "      <td>610.0</td>\n",
       "      <td>610.000000</td>\n",
       "      <td>610.000000</td>\n",
       "      <td>610.000000</td>\n",
       "      <td>610.000000</td>\n",
       "    </tr>\n",
       "    <tr>\n",
       "      <th>mean</th>\n",
       "      <td>305.500000</td>\n",
       "      <td>1.0</td>\n",
       "      <td>0.0</td>\n",
       "      <td>1.0</td>\n",
       "      <td>11.795082</td>\n",
       "      <td>2.977049</td>\n",
       "      <td>1.477049</td>\n",
       "      <td>0.196885</td>\n",
       "    </tr>\n",
       "    <tr>\n",
       "      <th>std</th>\n",
       "      <td>176.236111</td>\n",
       "      <td>0.0</td>\n",
       "      <td>0.0</td>\n",
       "      <td>0.0</td>\n",
       "      <td>6.852107</td>\n",
       "      <td>2.054943</td>\n",
       "      <td>0.643496</td>\n",
       "      <td>0.081304</td>\n",
       "    </tr>\n",
       "    <tr>\n",
       "      <th>min</th>\n",
       "      <td>1.000000</td>\n",
       "      <td>1.0</td>\n",
       "      <td>0.0</td>\n",
       "      <td>1.0</td>\n",
       "      <td>0.000000</td>\n",
       "      <td>0.000000</td>\n",
       "      <td>1.000000</td>\n",
       "      <td>0.020000</td>\n",
       "    </tr>\n",
       "    <tr>\n",
       "      <th>25%</th>\n",
       "      <td>153.250000</td>\n",
       "      <td>1.0</td>\n",
       "      <td>0.0</td>\n",
       "      <td>1.0</td>\n",
       "      <td>6.000000</td>\n",
       "      <td>1.000000</td>\n",
       "      <td>1.000000</td>\n",
       "      <td>0.160000</td>\n",
       "    </tr>\n",
       "    <tr>\n",
       "      <th>50%</th>\n",
       "      <td>305.500000</td>\n",
       "      <td>1.0</td>\n",
       "      <td>0.0</td>\n",
       "      <td>1.0</td>\n",
       "      <td>12.000000</td>\n",
       "      <td>3.000000</td>\n",
       "      <td>1.000000</td>\n",
       "      <td>0.200000</td>\n",
       "    </tr>\n",
       "    <tr>\n",
       "      <th>75%</th>\n",
       "      <td>457.750000</td>\n",
       "      <td>1.0</td>\n",
       "      <td>0.0</td>\n",
       "      <td>1.0</td>\n",
       "      <td>18.000000</td>\n",
       "      <td>5.000000</td>\n",
       "      <td>2.000000</td>\n",
       "      <td>0.235000</td>\n",
       "    </tr>\n",
       "    <tr>\n",
       "      <th>max</th>\n",
       "      <td>610.000000</td>\n",
       "      <td>1.0</td>\n",
       "      <td>0.0</td>\n",
       "      <td>1.0</td>\n",
       "      <td>23.000000</td>\n",
       "      <td>6.000000</td>\n",
       "      <td>4.000000</td>\n",
       "      <td>0.460000</td>\n",
       "    </tr>\n",
       "  </tbody>\n",
       "</table>\n",
       "</div>"
      ],
      "text/plain": [
       "          instant  season     yr   mnth          hr     weekday  weathersit  \\\n",
       "count  610.000000   610.0  610.0  610.0  610.000000  610.000000  610.000000   \n",
       "mean   305.500000     1.0    0.0    1.0   11.795082    2.977049    1.477049   \n",
       "std    176.236111     0.0    0.0    0.0    6.852107    2.054943    0.643496   \n",
       "min      1.000000     1.0    0.0    1.0    0.000000    0.000000    1.000000   \n",
       "25%    153.250000     1.0    0.0    1.0    6.000000    1.000000    1.000000   \n",
       "50%    305.500000     1.0    0.0    1.0   12.000000    3.000000    1.000000   \n",
       "75%    457.750000     1.0    0.0    1.0   18.000000    5.000000    2.000000   \n",
       "max    610.000000     1.0    0.0    1.0   23.000000    6.000000    4.000000   \n",
       "\n",
       "             temp  \n",
       "count  610.000000  \n",
       "mean     0.196885  \n",
       "std      0.081304  \n",
       "min      0.020000  \n",
       "25%      0.160000  \n",
       "50%      0.200000  \n",
       "75%      0.235000  \n",
       "max      0.460000  "
      ]
     },
     "execution_count": 14,
     "metadata": {},
     "output_type": "execute_result"
    }
   ],
   "source": [
    "#Checking the statistical condition of df1\n",
    "df1.describe()"
   ]
  },
  {
   "cell_type": "code",
   "execution_count": 15,
   "id": "c343f421",
   "metadata": {},
   "outputs": [
    {
     "data": {
      "text/plain": [
       "instant       0\n",
       "dteday        0\n",
       "season        0\n",
       "yr            0\n",
       "mnth          0\n",
       "hr            0\n",
       "holiday       0\n",
       "weekday       0\n",
       "weathersit    0\n",
       "temp          0\n",
       "dtype: int64"
      ]
     },
     "execution_count": 15,
     "metadata": {},
     "output_type": "execute_result"
    }
   ],
   "source": [
    "#checking missing values in df\n",
    "df1.isna().sum()"
   ]
  },
  {
   "cell_type": "markdown",
   "id": "ea89c194",
   "metadata": {},
   "source": [
    "# Dataset_2"
   ]
  },
  {
   "cell_type": "code",
   "execution_count": 16,
   "id": "6d9691f5",
   "metadata": {},
   "outputs": [
    {
     "data": {
      "text/html": [
       "<div>\n",
       "<style scoped>\n",
       "    .dataframe tbody tr th:only-of-type {\n",
       "        vertical-align: middle;\n",
       "    }\n",
       "\n",
       "    .dataframe tbody tr th {\n",
       "        vertical-align: top;\n",
       "    }\n",
       "\n",
       "    .dataframe thead th {\n",
       "        text-align: right;\n",
       "    }\n",
       "</style>\n",
       "<table border=\"1\" class=\"dataframe\">\n",
       "  <thead>\n",
       "    <tr style=\"text-align: right;\">\n",
       "      <th></th>\n",
       "      <th>Unnamed: 0</th>\n",
       "      <th>instant</th>\n",
       "      <th>atemp</th>\n",
       "      <th>hum</th>\n",
       "      <th>windspeed</th>\n",
       "      <th>casual</th>\n",
       "      <th>registered</th>\n",
       "      <th>cnt</th>\n",
       "    </tr>\n",
       "  </thead>\n",
       "  <tbody>\n",
       "    <tr>\n",
       "      <th>0</th>\n",
       "      <td>0</td>\n",
       "      <td>1</td>\n",
       "      <td>0.2879</td>\n",
       "      <td>0.81</td>\n",
       "      <td>0.0</td>\n",
       "      <td>3</td>\n",
       "      <td>13</td>\n",
       "      <td>16</td>\n",
       "    </tr>\n",
       "    <tr>\n",
       "      <th>1</th>\n",
       "      <td>1</td>\n",
       "      <td>2</td>\n",
       "      <td>0.2727</td>\n",
       "      <td>0.80</td>\n",
       "      <td>0.0</td>\n",
       "      <td>8</td>\n",
       "      <td>32</td>\n",
       "      <td>40</td>\n",
       "    </tr>\n",
       "    <tr>\n",
       "      <th>2</th>\n",
       "      <td>2</td>\n",
       "      <td>3</td>\n",
       "      <td>0.2727</td>\n",
       "      <td>0.80</td>\n",
       "      <td>0.0</td>\n",
       "      <td>5</td>\n",
       "      <td>27</td>\n",
       "      <td>32</td>\n",
       "    </tr>\n",
       "    <tr>\n",
       "      <th>3</th>\n",
       "      <td>3</td>\n",
       "      <td>4</td>\n",
       "      <td>0.2879</td>\n",
       "      <td>0.75</td>\n",
       "      <td>0.0</td>\n",
       "      <td>3</td>\n",
       "      <td>10</td>\n",
       "      <td>13</td>\n",
       "    </tr>\n",
       "    <tr>\n",
       "      <th>4</th>\n",
       "      <td>4</td>\n",
       "      <td>5</td>\n",
       "      <td>0.2879</td>\n",
       "      <td>0.75</td>\n",
       "      <td>0.0</td>\n",
       "      <td>0</td>\n",
       "      <td>1</td>\n",
       "      <td>1</td>\n",
       "    </tr>\n",
       "  </tbody>\n",
       "</table>\n",
       "</div>"
      ],
      "text/plain": [
       "   Unnamed: 0  instant   atemp   hum  windspeed  casual  registered  cnt\n",
       "0           0        1  0.2879  0.81        0.0       3          13   16\n",
       "1           1        2  0.2727  0.80        0.0       8          32   40\n",
       "2           2        3  0.2727  0.80        0.0       5          27   32\n",
       "3           3        4  0.2879  0.75        0.0       3          10   13\n",
       "4           4        5  0.2879  0.75        0.0       0           1    1"
      ]
     },
     "execution_count": 16,
     "metadata": {},
     "output_type": "execute_result"
    }
   ],
   "source": [
    "#reading dataset 2\n",
    "df2=pd.read_excel(\"dataset_2.xlsx\")\n",
    "df2.head()"
   ]
  },
  {
   "cell_type": "code",
   "execution_count": 17,
   "id": "828e1d28",
   "metadata": {},
   "outputs": [
    {
     "data": {
      "text/plain": [
       "(610, 8)"
      ]
     },
     "execution_count": 17,
     "metadata": {},
     "output_type": "execute_result"
    }
   ],
   "source": [
    "#Checking the shape of the dataset1\n",
    "df2.shape"
   ]
  },
  {
   "cell_type": "code",
   "execution_count": 18,
   "id": "fb54f530",
   "metadata": {},
   "outputs": [
    {
     "data": {
      "text/plain": [
       "Index(['Unnamed: 0', 'instant', 'atemp', 'hum', 'windspeed', 'casual',\n",
       "       'registered', 'cnt'],\n",
       "      dtype='object')"
      ]
     },
     "execution_count": 18,
     "metadata": {},
     "output_type": "execute_result"
    }
   ],
   "source": [
    "#checking columns present in df2\n",
    "df2.columns"
   ]
  },
  {
   "cell_type": "code",
   "execution_count": 19,
   "id": "27f1a9cf",
   "metadata": {},
   "outputs": [
    {
     "data": {
      "text/plain": [
       "array([0.2879, 0.2727, 0.2576,    nan, 0.3485, 0.3939, 0.3333, 0.4242,\n",
       "       0.4545, 0.4394, 0.4091, 0.2273, 0.2121, 0.197 , 0.1364, 0.1061,\n",
       "       0.1212, 0.1667, 0.1818, 0.2424, 0.1515, 0.3182, 0.0606, 0.0758,\n",
       "       0.0909, 0.303 , 0.0303, 0.0455, 0.    , 0.0152])"
      ]
     },
     "execution_count": 19,
     "metadata": {},
     "output_type": "execute_result"
    }
   ],
   "source": [
    "#checking unique values in df2\n",
    "df2['atemp'].unique()"
   ]
  },
  {
   "cell_type": "code",
   "execution_count": 20,
   "id": "d27357f4",
   "metadata": {},
   "outputs": [
    {
     "data": {
      "text/plain": [
       "array([0.81, 0.8 , 0.75, 0.86, 0.76, 0.77, 0.72, 0.82, 0.88, 0.87, 0.94,\n",
       "       1.  , 0.71, 0.66, 0.57, 0.46, 0.42, 0.39, 0.44, 0.47, 0.5 , 0.43,\n",
       "       0.4 , 0.35, 0.3 , 0.32, 0.64, 0.69, 0.55, 0.59, 0.63, 0.68, 0.74,\n",
       "       0.51, 0.56, 0.52, 0.49, 0.48, 0.37, 0.33, 0.28, 0.38, 0.36, 0.93,\n",
       "       0.29, 0.53, 0.34, 0.54, 0.41, 0.45, 0.92, 0.62, 0.58, 0.61, 0.6 ,\n",
       "       0.65, 0.7 , 0.27, 0.21, 0.25, 0.26])"
      ]
     },
     "execution_count": 20,
     "metadata": {},
     "output_type": "execute_result"
    }
   ],
   "source": [
    "df2['hum'].unique()"
   ]
  },
  {
   "cell_type": "code",
   "execution_count": 21,
   "id": "684bd49c",
   "metadata": {},
   "outputs": [
    {
     "data": {
      "text/plain": [
       "array([0.    , 0.0896, 0.2537, 0.2836, 0.2985, 0.194 , 0.2239, 0.1343,\n",
       "       0.1642, 0.3284, 0.4478, 0.3582, 0.4179, 0.3881, 0.1045, 0.4925,\n",
       "       0.5522, 0.4627, 0.5224, 0.5821])"
      ]
     },
     "execution_count": 21,
     "metadata": {},
     "output_type": "execute_result"
    }
   ],
   "source": [
    "df2['windspeed'].unique()"
   ]
  },
  {
   "cell_type": "code",
   "execution_count": 22,
   "id": "e3cba4fb",
   "metadata": {},
   "outputs": [
    {
     "data": {
      "text/plain": [
       "array([ 3,  8,  5,  0,  2,  1, 12, 26, 29, 47, 35, 40, 41, 15,  9,  6, 11,\n",
       "        4,  7, 16, 20, 19, 10, 13, 14, 18, 17, 21, 33, 23, 22, 24],\n",
       "      dtype=int64)"
      ]
     },
     "execution_count": 22,
     "metadata": {},
     "output_type": "execute_result"
    }
   ],
   "source": [
    "df2['casual'].unique()"
   ]
  },
  {
   "cell_type": "code",
   "execution_count": 23,
   "id": "a5b7e5e1",
   "metadata": {},
   "outputs": [
    {
     "data": {
      "text/plain": [
       "array([ 13,  32,  27,  10,   1,   0,   2,   7,   6,  24,  30,  55,  47,\n",
       "        71,  70,  52,  26,  31,  25,  17,  16,   8,   4,  19,  46,  54,\n",
       "        73,  64,  67,  58,  43,  29,  20,   9,   5,   3,  63, 153,  81,\n",
       "        33,  41,  48,  53,  66, 146, 148, 102,  49,  11,  36,  92, 177,\n",
       "        98,  37,  50,  79,  68, 202, 179, 110,  34,  87, 192, 109,  74,\n",
       "        65,  85, 186, 166, 127,  82,  40,  18,  95, 216, 116,  42,  57,\n",
       "        78,  59, 163, 158,  51,  76, 190, 125, 178,  39,  14,  15,  56,\n",
       "        60,  90,  83,  69,  28,  35,  22,  12,  77,  44,  38,  75, 184,\n",
       "       174, 154,  97, 214,  45,  72, 130,  94, 139, 135, 197, 137, 141,\n",
       "       156, 117, 155, 134,  89,  80, 108,  61, 124, 132, 196, 107, 100,\n",
       "       247, 140,  86,  62, 207, 210, 159, 151, 119,  93,  23, 171, 145,\n",
       "       101,  21, 103, 233, 208, 218, 133], dtype=int64)"
      ]
     },
     "execution_count": 23,
     "metadata": {},
     "output_type": "execute_result"
    }
   ],
   "source": [
    "df2['registered'].unique()"
   ]
  },
  {
   "cell_type": "code",
   "execution_count": 24,
   "id": "602908e9",
   "metadata": {},
   "outputs": [
    {
     "data": {
      "text/plain": [
       "array([ 16,  40,  32,  13,   1,   2,   3,   8,  14,  36,  56,  84,  94,\n",
       "       106, 110,  93,  67,  35,  37,  34,  28,  39,  17,   9,   6,  20,\n",
       "        53,  70,  75,  59,  74,  76,  65,  30,  22,  31,   5,  64, 154,\n",
       "        88,  44,  51,  61,  77,  72, 157,  52,  12,   4, 179, 100,  42,\n",
       "        57,  78,  97,  63,  83, 212, 182, 112,  54,  48,  11,  33, 195,\n",
       "       115,  46,  79,  71,  62,  89, 190, 169, 132,  43,  19,  95, 219,\n",
       "       122,  45,  86, 172, 163,  69,  23,   7, 210, 134,  73,  50,  87,\n",
       "       187, 123,  15,  25,  98, 102,  55,  10,  49,  82,  92,  41,  38,\n",
       "       188,  47, 178, 155,  24,  18,  27,  99, 217, 130, 136,  29, 128,\n",
       "        81,  68, 139, 137, 202,  60, 162, 144, 158, 117,  90, 159, 101,\n",
       "       118, 129,  26, 104,  91, 113, 105,  21,  80, 125, 133, 197, 109,\n",
       "       161, 249, 143, 215, 185, 152, 126, 166, 120,  96, 103,  58, 116,\n",
       "       177, 184, 153, 108, 238, 222, 225, 146, 119], dtype=int64)"
      ]
     },
     "execution_count": 24,
     "metadata": {},
     "output_type": "execute_result"
    }
   ],
   "source": [
    "df2['cnt'].unique()"
   ]
  },
  {
   "cell_type": "code",
   "execution_count": 25,
   "id": "b71129b9",
   "metadata": {},
   "outputs": [
    {
     "name": "stdout",
     "output_type": "stream",
     "text": [
      "<class 'pandas.core.frame.DataFrame'>\n",
      "RangeIndex: 610 entries, 0 to 609\n",
      "Data columns (total 8 columns):\n",
      " #   Column      Non-Null Count  Dtype  \n",
      "---  ------      --------------  -----  \n",
      " 0   Unnamed: 0  610 non-null    int64  \n",
      " 1   instant     610 non-null    int64  \n",
      " 2   atemp       599 non-null    float64\n",
      " 3   hum         610 non-null    float64\n",
      " 4   windspeed   610 non-null    float64\n",
      " 5   casual      610 non-null    int64  \n",
      " 6   registered  610 non-null    int64  \n",
      " 7   cnt         610 non-null    int64  \n",
      "dtypes: float64(3), int64(5)\n",
      "memory usage: 38.2 KB\n"
     ]
    }
   ],
   "source": [
    "# Checking info and datatypes\n",
    "df2.info()"
   ]
  },
  {
   "cell_type": "code",
   "execution_count": 26,
   "id": "f5a1254c",
   "metadata": {
    "scrolled": true
   },
   "outputs": [
    {
     "data": {
      "text/plain": [
       "Unnamed: 0     0\n",
       "instant        0\n",
       "atemp         11\n",
       "hum            0\n",
       "windspeed      0\n",
       "casual         0\n",
       "registered     0\n",
       "cnt            0\n",
       "dtype: int64"
      ]
     },
     "execution_count": 26,
     "metadata": {},
     "output_type": "execute_result"
    }
   ],
   "source": [
    "#checking missing values in df\n",
    "df2.isna().sum()"
   ]
  },
  {
   "cell_type": "code",
   "execution_count": 27,
   "id": "c67c5f91",
   "metadata": {},
   "outputs": [],
   "source": [
    "#droping the column\n",
    "df2=df2.drop(columns=['Unnamed: 0'])"
   ]
  },
  {
   "cell_type": "code",
   "execution_count": 28,
   "id": "9d3a02ad",
   "metadata": {},
   "outputs": [
    {
     "data": {
      "text/html": [
       "<div>\n",
       "<style scoped>\n",
       "    .dataframe tbody tr th:only-of-type {\n",
       "        vertical-align: middle;\n",
       "    }\n",
       "\n",
       "    .dataframe tbody tr th {\n",
       "        vertical-align: top;\n",
       "    }\n",
       "\n",
       "    .dataframe thead th {\n",
       "        text-align: right;\n",
       "    }\n",
       "</style>\n",
       "<table border=\"1\" class=\"dataframe\">\n",
       "  <thead>\n",
       "    <tr style=\"text-align: right;\">\n",
       "      <th></th>\n",
       "      <th>instant</th>\n",
       "      <th>atemp</th>\n",
       "      <th>hum</th>\n",
       "      <th>windspeed</th>\n",
       "      <th>casual</th>\n",
       "      <th>registered</th>\n",
       "      <th>cnt</th>\n",
       "    </tr>\n",
       "  </thead>\n",
       "  <tbody>\n",
       "    <tr>\n",
       "      <th>count</th>\n",
       "      <td>610.000000</td>\n",
       "      <td>599.000000</td>\n",
       "      <td>610.000000</td>\n",
       "      <td>610.000000</td>\n",
       "      <td>610.000000</td>\n",
       "      <td>610.000000</td>\n",
       "      <td>610.000000</td>\n",
       "    </tr>\n",
       "    <tr>\n",
       "      <th>mean</th>\n",
       "      <td>305.500000</td>\n",
       "      <td>0.199935</td>\n",
       "      <td>0.562475</td>\n",
       "      <td>0.204851</td>\n",
       "      <td>4.501639</td>\n",
       "      <td>51.068852</td>\n",
       "      <td>55.570492</td>\n",
       "    </tr>\n",
       "    <tr>\n",
       "      <th>std</th>\n",
       "      <td>176.236111</td>\n",
       "      <td>0.078836</td>\n",
       "      <td>0.175440</td>\n",
       "      <td>0.121806</td>\n",
       "      <td>6.319945</td>\n",
       "      <td>47.021204</td>\n",
       "      <td>49.316802</td>\n",
       "    </tr>\n",
       "    <tr>\n",
       "      <th>min</th>\n",
       "      <td>1.000000</td>\n",
       "      <td>0.000000</td>\n",
       "      <td>0.210000</td>\n",
       "      <td>0.000000</td>\n",
       "      <td>0.000000</td>\n",
       "      <td>0.000000</td>\n",
       "      <td>1.000000</td>\n",
       "    </tr>\n",
       "    <tr>\n",
       "      <th>25%</th>\n",
       "      <td>153.250000</td>\n",
       "      <td>0.151500</td>\n",
       "      <td>0.432500</td>\n",
       "      <td>0.104500</td>\n",
       "      <td>0.000000</td>\n",
       "      <td>14.000000</td>\n",
       "      <td>16.000000</td>\n",
       "    </tr>\n",
       "    <tr>\n",
       "      <th>50%</th>\n",
       "      <td>305.500000</td>\n",
       "      <td>0.197000</td>\n",
       "      <td>0.520000</td>\n",
       "      <td>0.194000</td>\n",
       "      <td>2.000000</td>\n",
       "      <td>43.000000</td>\n",
       "      <td>47.000000</td>\n",
       "    </tr>\n",
       "    <tr>\n",
       "      <th>75%</th>\n",
       "      <td>457.750000</td>\n",
       "      <td>0.242400</td>\n",
       "      <td>0.690000</td>\n",
       "      <td>0.283600</td>\n",
       "      <td>6.000000</td>\n",
       "      <td>70.000000</td>\n",
       "      <td>79.750000</td>\n",
       "    </tr>\n",
       "    <tr>\n",
       "      <th>max</th>\n",
       "      <td>610.000000</td>\n",
       "      <td>0.454500</td>\n",
       "      <td>1.000000</td>\n",
       "      <td>0.582100</td>\n",
       "      <td>47.000000</td>\n",
       "      <td>247.000000</td>\n",
       "      <td>249.000000</td>\n",
       "    </tr>\n",
       "  </tbody>\n",
       "</table>\n",
       "</div>"
      ],
      "text/plain": [
       "          instant       atemp         hum   windspeed      casual  registered  \\\n",
       "count  610.000000  599.000000  610.000000  610.000000  610.000000  610.000000   \n",
       "mean   305.500000    0.199935    0.562475    0.204851    4.501639   51.068852   \n",
       "std    176.236111    0.078836    0.175440    0.121806    6.319945   47.021204   \n",
       "min      1.000000    0.000000    0.210000    0.000000    0.000000    0.000000   \n",
       "25%    153.250000    0.151500    0.432500    0.104500    0.000000   14.000000   \n",
       "50%    305.500000    0.197000    0.520000    0.194000    2.000000   43.000000   \n",
       "75%    457.750000    0.242400    0.690000    0.283600    6.000000   70.000000   \n",
       "max    610.000000    0.454500    1.000000    0.582100   47.000000  247.000000   \n",
       "\n",
       "              cnt  \n",
       "count  610.000000  \n",
       "mean    55.570492  \n",
       "std     49.316802  \n",
       "min      1.000000  \n",
       "25%     16.000000  \n",
       "50%     47.000000  \n",
       "75%     79.750000  \n",
       "max    249.000000  "
      ]
     },
     "execution_count": 28,
     "metadata": {},
     "output_type": "execute_result"
    }
   ],
   "source": [
    "df2.describe()"
   ]
  },
  {
   "cell_type": "markdown",
   "id": "91e042a9",
   "metadata": {},
   "source": [
    "# Merging the df1 and df2"
   ]
  },
  {
   "cell_type": "code",
   "execution_count": 29,
   "id": "d3fd47b4",
   "metadata": {},
   "outputs": [
    {
     "data": {
      "text/html": [
       "<div>\n",
       "<style scoped>\n",
       "    .dataframe tbody tr th:only-of-type {\n",
       "        vertical-align: middle;\n",
       "    }\n",
       "\n",
       "    .dataframe tbody tr th {\n",
       "        vertical-align: top;\n",
       "    }\n",
       "\n",
       "    .dataframe thead th {\n",
       "        text-align: right;\n",
       "    }\n",
       "</style>\n",
       "<table border=\"1\" class=\"dataframe\">\n",
       "  <thead>\n",
       "    <tr style=\"text-align: right;\">\n",
       "      <th></th>\n",
       "      <th>instant</th>\n",
       "      <th>dteday</th>\n",
       "      <th>season</th>\n",
       "      <th>yr</th>\n",
       "      <th>mnth</th>\n",
       "      <th>hr</th>\n",
       "      <th>holiday</th>\n",
       "      <th>weekday</th>\n",
       "      <th>weathersit</th>\n",
       "      <th>temp</th>\n",
       "      <th>atemp</th>\n",
       "      <th>hum</th>\n",
       "      <th>windspeed</th>\n",
       "      <th>casual</th>\n",
       "      <th>registered</th>\n",
       "      <th>cnt</th>\n",
       "    </tr>\n",
       "  </thead>\n",
       "  <tbody>\n",
       "    <tr>\n",
       "      <th>0</th>\n",
       "      <td>1</td>\n",
       "      <td>2011-01-01</td>\n",
       "      <td>1</td>\n",
       "      <td>0</td>\n",
       "      <td>1</td>\n",
       "      <td>0</td>\n",
       "      <td>False</td>\n",
       "      <td>6</td>\n",
       "      <td>1</td>\n",
       "      <td>0.24</td>\n",
       "      <td>0.2879</td>\n",
       "      <td>0.81</td>\n",
       "      <td>0.0</td>\n",
       "      <td>3</td>\n",
       "      <td>13</td>\n",
       "      <td>16</td>\n",
       "    </tr>\n",
       "    <tr>\n",
       "      <th>1</th>\n",
       "      <td>2</td>\n",
       "      <td>2011-01-01</td>\n",
       "      <td>1</td>\n",
       "      <td>0</td>\n",
       "      <td>1</td>\n",
       "      <td>1</td>\n",
       "      <td>False</td>\n",
       "      <td>6</td>\n",
       "      <td>1</td>\n",
       "      <td>0.22</td>\n",
       "      <td>0.2727</td>\n",
       "      <td>0.80</td>\n",
       "      <td>0.0</td>\n",
       "      <td>8</td>\n",
       "      <td>32</td>\n",
       "      <td>40</td>\n",
       "    </tr>\n",
       "    <tr>\n",
       "      <th>2</th>\n",
       "      <td>3</td>\n",
       "      <td>2011-01-01</td>\n",
       "      <td>1</td>\n",
       "      <td>0</td>\n",
       "      <td>1</td>\n",
       "      <td>2</td>\n",
       "      <td>False</td>\n",
       "      <td>6</td>\n",
       "      <td>1</td>\n",
       "      <td>0.22</td>\n",
       "      <td>0.2727</td>\n",
       "      <td>0.80</td>\n",
       "      <td>0.0</td>\n",
       "      <td>5</td>\n",
       "      <td>27</td>\n",
       "      <td>32</td>\n",
       "    </tr>\n",
       "    <tr>\n",
       "      <th>3</th>\n",
       "      <td>4</td>\n",
       "      <td>2011-01-01</td>\n",
       "      <td>1</td>\n",
       "      <td>0</td>\n",
       "      <td>1</td>\n",
       "      <td>3</td>\n",
       "      <td>False</td>\n",
       "      <td>6</td>\n",
       "      <td>1</td>\n",
       "      <td>0.24</td>\n",
       "      <td>0.2879</td>\n",
       "      <td>0.75</td>\n",
       "      <td>0.0</td>\n",
       "      <td>3</td>\n",
       "      <td>10</td>\n",
       "      <td>13</td>\n",
       "    </tr>\n",
       "    <tr>\n",
       "      <th>4</th>\n",
       "      <td>5</td>\n",
       "      <td>2011-01-01</td>\n",
       "      <td>1</td>\n",
       "      <td>0</td>\n",
       "      <td>1</td>\n",
       "      <td>4</td>\n",
       "      <td>False</td>\n",
       "      <td>6</td>\n",
       "      <td>1</td>\n",
       "      <td>0.24</td>\n",
       "      <td>0.2879</td>\n",
       "      <td>0.75</td>\n",
       "      <td>0.0</td>\n",
       "      <td>0</td>\n",
       "      <td>1</td>\n",
       "      <td>1</td>\n",
       "    </tr>\n",
       "  </tbody>\n",
       "</table>\n",
       "</div>"
      ],
      "text/plain": [
       "   instant     dteday  season  yr  mnth  hr  holiday  weekday  weathersit  \\\n",
       "0        1 2011-01-01       1   0     1   0    False        6           1   \n",
       "1        2 2011-01-01       1   0     1   1    False        6           1   \n",
       "2        3 2011-01-01       1   0     1   2    False        6           1   \n",
       "3        4 2011-01-01       1   0     1   3    False        6           1   \n",
       "4        5 2011-01-01       1   0     1   4    False        6           1   \n",
       "\n",
       "   temp   atemp   hum  windspeed  casual  registered  cnt  \n",
       "0  0.24  0.2879  0.81        0.0       3          13   16  \n",
       "1  0.22  0.2727  0.80        0.0       8          32   40  \n",
       "2  0.22  0.2727  0.80        0.0       5          27   32  \n",
       "3  0.24  0.2879  0.75        0.0       3          10   13  \n",
       "4  0.24  0.2879  0.75        0.0       0           1    1  "
      ]
     },
     "execution_count": 29,
     "metadata": {},
     "output_type": "execute_result"
    }
   ],
   "source": [
    "# Merge the DataFrames on the 'instant' column\n",
    "merged_df = pd.merge(df1, df2, how='inner')\n",
    "\n",
    "merged_df.head()"
   ]
  },
  {
   "cell_type": "code",
   "execution_count": 30,
   "id": "0ac84597",
   "metadata": {},
   "outputs": [
    {
     "data": {
      "text/plain": [
       "(610, 16)"
      ]
     },
     "execution_count": 30,
     "metadata": {},
     "output_type": "execute_result"
    }
   ],
   "source": [
    "#Checking dimenion of merged_df\n",
    "merged_df.shape"
   ]
  },
  {
   "cell_type": "code",
   "execution_count": 31,
   "id": "8181194b",
   "metadata": {},
   "outputs": [
    {
     "data": {
      "text/plain": [
       "Index(['instant', 'dteday', 'season', 'yr', 'mnth', 'hr', 'holiday', 'weekday',\n",
       "       'weathersit', 'temp', 'atemp', 'hum', 'windspeed', 'casual',\n",
       "       'registered', 'cnt'],\n",
       "      dtype='object')"
      ]
     },
     "execution_count": 31,
     "metadata": {},
     "output_type": "execute_result"
    }
   ],
   "source": [
    "#Checking columns present in merged_df\n",
    "merged_df.columns"
   ]
  },
  {
   "cell_type": "code",
   "execution_count": 32,
   "id": "5b9ea970",
   "metadata": {},
   "outputs": [
    {
     "name": "stdout",
     "output_type": "stream",
     "text": [
      "<class 'pandas.core.frame.DataFrame'>\n",
      "Int64Index: 610 entries, 0 to 609\n",
      "Data columns (total 16 columns):\n",
      " #   Column      Non-Null Count  Dtype         \n",
      "---  ------      --------------  -----         \n",
      " 0   instant     610 non-null    int64         \n",
      " 1   dteday      610 non-null    datetime64[ns]\n",
      " 2   season      610 non-null    int64         \n",
      " 3   yr          610 non-null    int64         \n",
      " 4   mnth        610 non-null    int64         \n",
      " 5   hr          610 non-null    int64         \n",
      " 6   holiday     610 non-null    bool          \n",
      " 7   weekday     610 non-null    int64         \n",
      " 8   weathersit  610 non-null    int64         \n",
      " 9   temp        610 non-null    float64       \n",
      " 10  atemp       599 non-null    float64       \n",
      " 11  hum         610 non-null    float64       \n",
      " 12  windspeed   610 non-null    float64       \n",
      " 13  casual      610 non-null    int64         \n",
      " 14  registered  610 non-null    int64         \n",
      " 15  cnt         610 non-null    int64         \n",
      "dtypes: bool(1), datetime64[ns](1), float64(4), int64(10)\n",
      "memory usage: 76.8 KB\n"
     ]
    }
   ],
   "source": [
    "# Check data types of columns\n",
    "merged_df.info()"
   ]
  },
  {
   "cell_type": "code",
   "execution_count": 33,
   "id": "b5d5135f",
   "metadata": {},
   "outputs": [
    {
     "data": {
      "text/html": [
       "<div>\n",
       "<style scoped>\n",
       "    .dataframe tbody tr th:only-of-type {\n",
       "        vertical-align: middle;\n",
       "    }\n",
       "\n",
       "    .dataframe tbody tr th {\n",
       "        vertical-align: top;\n",
       "    }\n",
       "\n",
       "    .dataframe thead th {\n",
       "        text-align: right;\n",
       "    }\n",
       "</style>\n",
       "<table border=\"1\" class=\"dataframe\">\n",
       "  <thead>\n",
       "    <tr style=\"text-align: right;\">\n",
       "      <th></th>\n",
       "      <th>instant</th>\n",
       "      <th>season</th>\n",
       "      <th>yr</th>\n",
       "      <th>mnth</th>\n",
       "      <th>hr</th>\n",
       "      <th>weekday</th>\n",
       "      <th>weathersit</th>\n",
       "      <th>temp</th>\n",
       "      <th>atemp</th>\n",
       "      <th>hum</th>\n",
       "      <th>windspeed</th>\n",
       "      <th>casual</th>\n",
       "      <th>registered</th>\n",
       "      <th>cnt</th>\n",
       "    </tr>\n",
       "  </thead>\n",
       "  <tbody>\n",
       "    <tr>\n",
       "      <th>count</th>\n",
       "      <td>610.000000</td>\n",
       "      <td>610.0</td>\n",
       "      <td>610.0</td>\n",
       "      <td>610.0</td>\n",
       "      <td>610.000000</td>\n",
       "      <td>610.000000</td>\n",
       "      <td>610.000000</td>\n",
       "      <td>610.000000</td>\n",
       "      <td>599.000000</td>\n",
       "      <td>610.000000</td>\n",
       "      <td>610.000000</td>\n",
       "      <td>610.000000</td>\n",
       "      <td>610.000000</td>\n",
       "      <td>610.000000</td>\n",
       "    </tr>\n",
       "    <tr>\n",
       "      <th>mean</th>\n",
       "      <td>305.500000</td>\n",
       "      <td>1.0</td>\n",
       "      <td>0.0</td>\n",
       "      <td>1.0</td>\n",
       "      <td>11.795082</td>\n",
       "      <td>2.977049</td>\n",
       "      <td>1.477049</td>\n",
       "      <td>0.196885</td>\n",
       "      <td>0.199935</td>\n",
       "      <td>0.562475</td>\n",
       "      <td>0.204851</td>\n",
       "      <td>4.501639</td>\n",
       "      <td>51.068852</td>\n",
       "      <td>55.570492</td>\n",
       "    </tr>\n",
       "    <tr>\n",
       "      <th>std</th>\n",
       "      <td>176.236111</td>\n",
       "      <td>0.0</td>\n",
       "      <td>0.0</td>\n",
       "      <td>0.0</td>\n",
       "      <td>6.852107</td>\n",
       "      <td>2.054943</td>\n",
       "      <td>0.643496</td>\n",
       "      <td>0.081304</td>\n",
       "      <td>0.078836</td>\n",
       "      <td>0.175440</td>\n",
       "      <td>0.121806</td>\n",
       "      <td>6.319945</td>\n",
       "      <td>47.021204</td>\n",
       "      <td>49.316802</td>\n",
       "    </tr>\n",
       "    <tr>\n",
       "      <th>min</th>\n",
       "      <td>1.000000</td>\n",
       "      <td>1.0</td>\n",
       "      <td>0.0</td>\n",
       "      <td>1.0</td>\n",
       "      <td>0.000000</td>\n",
       "      <td>0.000000</td>\n",
       "      <td>1.000000</td>\n",
       "      <td>0.020000</td>\n",
       "      <td>0.000000</td>\n",
       "      <td>0.210000</td>\n",
       "      <td>0.000000</td>\n",
       "      <td>0.000000</td>\n",
       "      <td>0.000000</td>\n",
       "      <td>1.000000</td>\n",
       "    </tr>\n",
       "    <tr>\n",
       "      <th>25%</th>\n",
       "      <td>153.250000</td>\n",
       "      <td>1.0</td>\n",
       "      <td>0.0</td>\n",
       "      <td>1.0</td>\n",
       "      <td>6.000000</td>\n",
       "      <td>1.000000</td>\n",
       "      <td>1.000000</td>\n",
       "      <td>0.160000</td>\n",
       "      <td>0.151500</td>\n",
       "      <td>0.432500</td>\n",
       "      <td>0.104500</td>\n",
       "      <td>0.000000</td>\n",
       "      <td>14.000000</td>\n",
       "      <td>16.000000</td>\n",
       "    </tr>\n",
       "    <tr>\n",
       "      <th>50%</th>\n",
       "      <td>305.500000</td>\n",
       "      <td>1.0</td>\n",
       "      <td>0.0</td>\n",
       "      <td>1.0</td>\n",
       "      <td>12.000000</td>\n",
       "      <td>3.000000</td>\n",
       "      <td>1.000000</td>\n",
       "      <td>0.200000</td>\n",
       "      <td>0.197000</td>\n",
       "      <td>0.520000</td>\n",
       "      <td>0.194000</td>\n",
       "      <td>2.000000</td>\n",
       "      <td>43.000000</td>\n",
       "      <td>47.000000</td>\n",
       "    </tr>\n",
       "    <tr>\n",
       "      <th>75%</th>\n",
       "      <td>457.750000</td>\n",
       "      <td>1.0</td>\n",
       "      <td>0.0</td>\n",
       "      <td>1.0</td>\n",
       "      <td>18.000000</td>\n",
       "      <td>5.000000</td>\n",
       "      <td>2.000000</td>\n",
       "      <td>0.235000</td>\n",
       "      <td>0.242400</td>\n",
       "      <td>0.690000</td>\n",
       "      <td>0.283600</td>\n",
       "      <td>6.000000</td>\n",
       "      <td>70.000000</td>\n",
       "      <td>79.750000</td>\n",
       "    </tr>\n",
       "    <tr>\n",
       "      <th>max</th>\n",
       "      <td>610.000000</td>\n",
       "      <td>1.0</td>\n",
       "      <td>0.0</td>\n",
       "      <td>1.0</td>\n",
       "      <td>23.000000</td>\n",
       "      <td>6.000000</td>\n",
       "      <td>4.000000</td>\n",
       "      <td>0.460000</td>\n",
       "      <td>0.454500</td>\n",
       "      <td>1.000000</td>\n",
       "      <td>0.582100</td>\n",
       "      <td>47.000000</td>\n",
       "      <td>247.000000</td>\n",
       "      <td>249.000000</td>\n",
       "    </tr>\n",
       "  </tbody>\n",
       "</table>\n",
       "</div>"
      ],
      "text/plain": [
       "          instant  season     yr   mnth          hr     weekday  weathersit  \\\n",
       "count  610.000000   610.0  610.0  610.0  610.000000  610.000000  610.000000   \n",
       "mean   305.500000     1.0    0.0    1.0   11.795082    2.977049    1.477049   \n",
       "std    176.236111     0.0    0.0    0.0    6.852107    2.054943    0.643496   \n",
       "min      1.000000     1.0    0.0    1.0    0.000000    0.000000    1.000000   \n",
       "25%    153.250000     1.0    0.0    1.0    6.000000    1.000000    1.000000   \n",
       "50%    305.500000     1.0    0.0    1.0   12.000000    3.000000    1.000000   \n",
       "75%    457.750000     1.0    0.0    1.0   18.000000    5.000000    2.000000   \n",
       "max    610.000000     1.0    0.0    1.0   23.000000    6.000000    4.000000   \n",
       "\n",
       "             temp       atemp         hum   windspeed      casual  registered  \\\n",
       "count  610.000000  599.000000  610.000000  610.000000  610.000000  610.000000   \n",
       "mean     0.196885    0.199935    0.562475    0.204851    4.501639   51.068852   \n",
       "std      0.081304    0.078836    0.175440    0.121806    6.319945   47.021204   \n",
       "min      0.020000    0.000000    0.210000    0.000000    0.000000    0.000000   \n",
       "25%      0.160000    0.151500    0.432500    0.104500    0.000000   14.000000   \n",
       "50%      0.200000    0.197000    0.520000    0.194000    2.000000   43.000000   \n",
       "75%      0.235000    0.242400    0.690000    0.283600    6.000000   70.000000   \n",
       "max      0.460000    0.454500    1.000000    0.582100   47.000000  247.000000   \n",
       "\n",
       "              cnt  \n",
       "count  610.000000  \n",
       "mean    55.570492  \n",
       "std     49.316802  \n",
       "min      1.000000  \n",
       "25%     16.000000  \n",
       "50%     47.000000  \n",
       "75%     79.750000  \n",
       "max    249.000000  "
      ]
     },
     "execution_count": 33,
     "metadata": {},
     "output_type": "execute_result"
    }
   ],
   "source": [
    "merged_df.describe()"
   ]
  },
  {
   "cell_type": "code",
   "execution_count": 34,
   "id": "7fc5388a",
   "metadata": {},
   "outputs": [
    {
     "name": "stdout",
     "output_type": "stream",
     "text": [
      "\n",
      "Missing Values:\n",
      "instant        0\n",
      "dteday         0\n",
      "season         0\n",
      "yr             0\n",
      "mnth           0\n",
      "hr             0\n",
      "holiday        0\n",
      "weekday        0\n",
      "weathersit     0\n",
      "temp           0\n",
      "atemp         11\n",
      "hum            0\n",
      "windspeed      0\n",
      "casual         0\n",
      "registered     0\n",
      "cnt            0\n",
      "dtype: int64\n"
     ]
    }
   ],
   "source": [
    "# Look for Missing Values\n",
    "print(\"\\nMissing Values:\")\n",
    "print(merged_df.isnull().sum())"
   ]
  },
  {
   "cell_type": "code",
   "execution_count": 35,
   "id": "af63aea7",
   "metadata": {},
   "outputs": [
    {
     "data": {
      "text/plain": [
       "array([0.2879, 0.2727, 0.2576,    nan, 0.3485, 0.3939, 0.3333, 0.4242,\n",
       "       0.4545, 0.4394, 0.4091, 0.2273, 0.2121, 0.197 , 0.1364, 0.1061,\n",
       "       0.1212, 0.1667, 0.1818, 0.2424, 0.1515, 0.3182, 0.0606, 0.0758,\n",
       "       0.0909, 0.303 , 0.0303, 0.0455, 0.    , 0.0152])"
      ]
     },
     "execution_count": 35,
     "metadata": {},
     "output_type": "execute_result"
    }
   ],
   "source": [
    "#Unique values in atemp column\n",
    "merged_df[\"atemp\"].unique()"
   ]
  },
  {
   "cell_type": "code",
   "execution_count": 36,
   "id": "daef630b",
   "metadata": {},
   "outputs": [
    {
     "name": "stdout",
     "output_type": "stream",
     "text": [
      "mean: 0.19993489148580967\n"
     ]
    }
   ],
   "source": [
    "#Checking the central tendency of atemp column\n",
    "print(\"mean:\",merged_df[\"atemp\"].mean())"
   ]
  },
  {
   "cell_type": "code",
   "execution_count": 37,
   "id": "d921bfb6",
   "metadata": {},
   "outputs": [
    {
     "name": "stdout",
     "output_type": "stream",
     "text": [
      "mode: 0    0.197\n",
      "Name: atemp, dtype: float64\n"
     ]
    }
   ],
   "source": [
    "#Checking the mode\n",
    "print(\"mode:\",merged_df[\"atemp\"].mode())"
   ]
  },
  {
   "cell_type": "code",
   "execution_count": 38,
   "id": "d0859f3c",
   "metadata": {},
   "outputs": [
    {
     "name": "stdout",
     "output_type": "stream",
     "text": [
      "median: 0.197\n"
     ]
    }
   ],
   "source": [
    "#Checking the median\n",
    "print(\"median:\",merged_df[\"atemp\"].median())"
   ]
  },
  {
   "cell_type": "code",
   "execution_count": 39,
   "id": "f065e213",
   "metadata": {},
   "outputs": [
    {
     "name": "stdout",
     "output_type": "stream",
     "text": [
      "Missing Values After Imputation:\n",
      "0\n"
     ]
    }
   ],
   "source": [
    "# Calculate the mean temperature (most frequent value)\n",
    "mean_temp = merged_df['atemp'].mean()\n",
    "\n",
    "# Fill missing values with the mean temperature\n",
    "merged_df['atemp'].fillna(mean_temp, inplace=True)\n",
    "\n",
    "# Verify if missing values have been filled\n",
    "print(\"Missing Values After Imputation:\")\n",
    "print(merged_df['atemp'].isnull().sum())"
   ]
  },
  {
   "cell_type": "code",
   "execution_count": 40,
   "id": "a5c0dd27",
   "metadata": {},
   "outputs": [
    {
     "data": {
      "text/plain": [
       "array([0.2879    , 0.2727    , 0.2576    , 0.19993489, 0.3485    ,\n",
       "       0.3939    , 0.3333    , 0.4242    , 0.4545    , 0.4394    ,\n",
       "       0.4091    , 0.2273    , 0.2121    , 0.197     , 0.1364    ,\n",
       "       0.1061    , 0.1212    , 0.1667    , 0.1818    , 0.2424    ,\n",
       "       0.1515    , 0.3182    , 0.0606    , 0.0758    , 0.0909    ,\n",
       "       0.303     , 0.0303    , 0.0455    , 0.        , 0.0152    ])"
      ]
     },
     "execution_count": 40,
     "metadata": {},
     "output_type": "execute_result"
    }
   ],
   "source": [
    "#Again checking the atemp column for replaced with mean value\n",
    "merged_df['atemp'].unique()"
   ]
  },
  {
   "cell_type": "code",
   "execution_count": 41,
   "id": "93b8a416",
   "metadata": {
    "scrolled": true
   },
   "outputs": [
    {
     "data": {
      "text/plain": [
       "instant       0\n",
       "dteday        0\n",
       "season        0\n",
       "yr            0\n",
       "mnth          0\n",
       "hr            0\n",
       "holiday       0\n",
       "weekday       0\n",
       "weathersit    0\n",
       "temp          0\n",
       "atemp         0\n",
       "hum           0\n",
       "windspeed     0\n",
       "casual        0\n",
       "registered    0\n",
       "cnt           0\n",
       "dtype: int64"
      ]
     },
     "execution_count": 41,
     "metadata": {},
     "output_type": "execute_result"
    }
   ],
   "source": [
    "#checking the missing values\n",
    "merged_df.isna().sum()"
   ]
  },
  {
   "cell_type": "code",
   "execution_count": 42,
   "id": "c727b726",
   "metadata": {},
   "outputs": [],
   "source": [
    "#Replacing the Categorical data into the numeric data for holiday column\n",
    "merged_df['holiday']=merged_df['holiday'].replace({True:1,False:0})"
   ]
  },
  {
   "cell_type": "code",
   "execution_count": 43,
   "id": "2bc73106",
   "metadata": {},
   "outputs": [
    {
     "data": {
      "text/html": [
       "<div>\n",
       "<style scoped>\n",
       "    .dataframe tbody tr th:only-of-type {\n",
       "        vertical-align: middle;\n",
       "    }\n",
       "\n",
       "    .dataframe tbody tr th {\n",
       "        vertical-align: top;\n",
       "    }\n",
       "\n",
       "    .dataframe thead th {\n",
       "        text-align: right;\n",
       "    }\n",
       "</style>\n",
       "<table border=\"1\" class=\"dataframe\">\n",
       "  <thead>\n",
       "    <tr style=\"text-align: right;\">\n",
       "      <th></th>\n",
       "      <th>instant</th>\n",
       "      <th>dteday</th>\n",
       "      <th>season</th>\n",
       "      <th>yr</th>\n",
       "      <th>mnth</th>\n",
       "      <th>hr</th>\n",
       "      <th>holiday</th>\n",
       "      <th>weekday</th>\n",
       "      <th>weathersit</th>\n",
       "      <th>temp</th>\n",
       "      <th>atemp</th>\n",
       "      <th>hum</th>\n",
       "      <th>windspeed</th>\n",
       "      <th>casual</th>\n",
       "      <th>registered</th>\n",
       "      <th>cnt</th>\n",
       "    </tr>\n",
       "  </thead>\n",
       "  <tbody>\n",
       "    <tr>\n",
       "      <th>0</th>\n",
       "      <td>1</td>\n",
       "      <td>2011-01-01</td>\n",
       "      <td>1</td>\n",
       "      <td>0</td>\n",
       "      <td>1</td>\n",
       "      <td>0</td>\n",
       "      <td>0</td>\n",
       "      <td>6</td>\n",
       "      <td>1</td>\n",
       "      <td>0.24</td>\n",
       "      <td>0.2879</td>\n",
       "      <td>0.81</td>\n",
       "      <td>0.0000</td>\n",
       "      <td>3</td>\n",
       "      <td>13</td>\n",
       "      <td>16</td>\n",
       "    </tr>\n",
       "    <tr>\n",
       "      <th>1</th>\n",
       "      <td>2</td>\n",
       "      <td>2011-01-01</td>\n",
       "      <td>1</td>\n",
       "      <td>0</td>\n",
       "      <td>1</td>\n",
       "      <td>1</td>\n",
       "      <td>0</td>\n",
       "      <td>6</td>\n",
       "      <td>1</td>\n",
       "      <td>0.22</td>\n",
       "      <td>0.2727</td>\n",
       "      <td>0.80</td>\n",
       "      <td>0.0000</td>\n",
       "      <td>8</td>\n",
       "      <td>32</td>\n",
       "      <td>40</td>\n",
       "    </tr>\n",
       "    <tr>\n",
       "      <th>2</th>\n",
       "      <td>3</td>\n",
       "      <td>2011-01-01</td>\n",
       "      <td>1</td>\n",
       "      <td>0</td>\n",
       "      <td>1</td>\n",
       "      <td>2</td>\n",
       "      <td>0</td>\n",
       "      <td>6</td>\n",
       "      <td>1</td>\n",
       "      <td>0.22</td>\n",
       "      <td>0.2727</td>\n",
       "      <td>0.80</td>\n",
       "      <td>0.0000</td>\n",
       "      <td>5</td>\n",
       "      <td>27</td>\n",
       "      <td>32</td>\n",
       "    </tr>\n",
       "    <tr>\n",
       "      <th>3</th>\n",
       "      <td>4</td>\n",
       "      <td>2011-01-01</td>\n",
       "      <td>1</td>\n",
       "      <td>0</td>\n",
       "      <td>1</td>\n",
       "      <td>3</td>\n",
       "      <td>0</td>\n",
       "      <td>6</td>\n",
       "      <td>1</td>\n",
       "      <td>0.24</td>\n",
       "      <td>0.2879</td>\n",
       "      <td>0.75</td>\n",
       "      <td>0.0000</td>\n",
       "      <td>3</td>\n",
       "      <td>10</td>\n",
       "      <td>13</td>\n",
       "    </tr>\n",
       "    <tr>\n",
       "      <th>4</th>\n",
       "      <td>5</td>\n",
       "      <td>2011-01-01</td>\n",
       "      <td>1</td>\n",
       "      <td>0</td>\n",
       "      <td>1</td>\n",
       "      <td>4</td>\n",
       "      <td>0</td>\n",
       "      <td>6</td>\n",
       "      <td>1</td>\n",
       "      <td>0.24</td>\n",
       "      <td>0.2879</td>\n",
       "      <td>0.75</td>\n",
       "      <td>0.0000</td>\n",
       "      <td>0</td>\n",
       "      <td>1</td>\n",
       "      <td>1</td>\n",
       "    </tr>\n",
       "    <tr>\n",
       "      <th>...</th>\n",
       "      <td>...</td>\n",
       "      <td>...</td>\n",
       "      <td>...</td>\n",
       "      <td>...</td>\n",
       "      <td>...</td>\n",
       "      <td>...</td>\n",
       "      <td>...</td>\n",
       "      <td>...</td>\n",
       "      <td>...</td>\n",
       "      <td>...</td>\n",
       "      <td>...</td>\n",
       "      <td>...</td>\n",
       "      <td>...</td>\n",
       "      <td>...</td>\n",
       "      <td>...</td>\n",
       "      <td>...</td>\n",
       "    </tr>\n",
       "    <tr>\n",
       "      <th>605</th>\n",
       "      <td>606</td>\n",
       "      <td>2011-01-28</td>\n",
       "      <td>1</td>\n",
       "      <td>0</td>\n",
       "      <td>1</td>\n",
       "      <td>11</td>\n",
       "      <td>0</td>\n",
       "      <td>5</td>\n",
       "      <td>3</td>\n",
       "      <td>0.18</td>\n",
       "      <td>0.2121</td>\n",
       "      <td>0.93</td>\n",
       "      <td>0.1045</td>\n",
       "      <td>0</td>\n",
       "      <td>30</td>\n",
       "      <td>30</td>\n",
       "    </tr>\n",
       "    <tr>\n",
       "      <th>606</th>\n",
       "      <td>607</td>\n",
       "      <td>2011-01-28</td>\n",
       "      <td>1</td>\n",
       "      <td>0</td>\n",
       "      <td>1</td>\n",
       "      <td>12</td>\n",
       "      <td>0</td>\n",
       "      <td>5</td>\n",
       "      <td>3</td>\n",
       "      <td>0.18</td>\n",
       "      <td>0.2121</td>\n",
       "      <td>0.93</td>\n",
       "      <td>0.1045</td>\n",
       "      <td>1</td>\n",
       "      <td>28</td>\n",
       "      <td>29</td>\n",
       "    </tr>\n",
       "    <tr>\n",
       "      <th>607</th>\n",
       "      <td>608</td>\n",
       "      <td>2011-01-28</td>\n",
       "      <td>1</td>\n",
       "      <td>0</td>\n",
       "      <td>1</td>\n",
       "      <td>13</td>\n",
       "      <td>0</td>\n",
       "      <td>5</td>\n",
       "      <td>3</td>\n",
       "      <td>0.18</td>\n",
       "      <td>0.2121</td>\n",
       "      <td>0.93</td>\n",
       "      <td>0.1045</td>\n",
       "      <td>0</td>\n",
       "      <td>31</td>\n",
       "      <td>31</td>\n",
       "    </tr>\n",
       "    <tr>\n",
       "      <th>608</th>\n",
       "      <td>609</td>\n",
       "      <td>2011-01-28</td>\n",
       "      <td>1</td>\n",
       "      <td>0</td>\n",
       "      <td>1</td>\n",
       "      <td>14</td>\n",
       "      <td>0</td>\n",
       "      <td>5</td>\n",
       "      <td>3</td>\n",
       "      <td>0.22</td>\n",
       "      <td>0.2727</td>\n",
       "      <td>0.80</td>\n",
       "      <td>0.0000</td>\n",
       "      <td>2</td>\n",
       "      <td>36</td>\n",
       "      <td>38</td>\n",
       "    </tr>\n",
       "    <tr>\n",
       "      <th>609</th>\n",
       "      <td>610</td>\n",
       "      <td>2011-01-28</td>\n",
       "      <td>1</td>\n",
       "      <td>0</td>\n",
       "      <td>1</td>\n",
       "      <td>15</td>\n",
       "      <td>0</td>\n",
       "      <td>5</td>\n",
       "      <td>2</td>\n",
       "      <td>0.20</td>\n",
       "      <td>0.2576</td>\n",
       "      <td>0.86</td>\n",
       "      <td>0.0000</td>\n",
       "      <td>1</td>\n",
       "      <td>40</td>\n",
       "      <td>41</td>\n",
       "    </tr>\n",
       "  </tbody>\n",
       "</table>\n",
       "<p>610 rows × 16 columns</p>\n",
       "</div>"
      ],
      "text/plain": [
       "     instant     dteday  season  yr  mnth  hr  holiday  weekday  weathersit  \\\n",
       "0          1 2011-01-01       1   0     1   0        0        6           1   \n",
       "1          2 2011-01-01       1   0     1   1        0        6           1   \n",
       "2          3 2011-01-01       1   0     1   2        0        6           1   \n",
       "3          4 2011-01-01       1   0     1   3        0        6           1   \n",
       "4          5 2011-01-01       1   0     1   4        0        6           1   \n",
       "..       ...        ...     ...  ..   ...  ..      ...      ...         ...   \n",
       "605      606 2011-01-28       1   0     1  11        0        5           3   \n",
       "606      607 2011-01-28       1   0     1  12        0        5           3   \n",
       "607      608 2011-01-28       1   0     1  13        0        5           3   \n",
       "608      609 2011-01-28       1   0     1  14        0        5           3   \n",
       "609      610 2011-01-28       1   0     1  15        0        5           2   \n",
       "\n",
       "     temp   atemp   hum  windspeed  casual  registered  cnt  \n",
       "0    0.24  0.2879  0.81     0.0000       3          13   16  \n",
       "1    0.22  0.2727  0.80     0.0000       8          32   40  \n",
       "2    0.22  0.2727  0.80     0.0000       5          27   32  \n",
       "3    0.24  0.2879  0.75     0.0000       3          10   13  \n",
       "4    0.24  0.2879  0.75     0.0000       0           1    1  \n",
       "..    ...     ...   ...        ...     ...         ...  ...  \n",
       "605  0.18  0.2121  0.93     0.1045       0          30   30  \n",
       "606  0.18  0.2121  0.93     0.1045       1          28   29  \n",
       "607  0.18  0.2121  0.93     0.1045       0          31   31  \n",
       "608  0.22  0.2727  0.80     0.0000       2          36   38  \n",
       "609  0.20  0.2576  0.86     0.0000       1          40   41  \n",
       "\n",
       "[610 rows x 16 columns]"
      ]
     },
     "execution_count": 43,
     "metadata": {},
     "output_type": "execute_result"
    }
   ],
   "source": [
    "merged_df"
   ]
  },
  {
   "cell_type": "code",
   "execution_count": 44,
   "id": "c4bb30e4",
   "metadata": {
    "scrolled": true
   },
   "outputs": [
    {
     "data": {
      "text/plain": [
       "0    586\n",
       "1     24\n",
       "Name: holiday, dtype: int64"
      ]
     },
     "execution_count": 44,
     "metadata": {},
     "output_type": "execute_result"
    }
   ],
   "source": [
    "merged_df['holiday'].value_counts()"
   ]
  },
  {
   "cell_type": "code",
   "execution_count": 45,
   "id": "dd276120",
   "metadata": {},
   "outputs": [
    {
     "data": {
      "text/html": [
       "<div>\n",
       "<style scoped>\n",
       "    .dataframe tbody tr th:only-of-type {\n",
       "        vertical-align: middle;\n",
       "    }\n",
       "\n",
       "    .dataframe tbody tr th {\n",
       "        vertical-align: top;\n",
       "    }\n",
       "\n",
       "    .dataframe thead th {\n",
       "        text-align: right;\n",
       "    }\n",
       "</style>\n",
       "<table border=\"1\" class=\"dataframe\">\n",
       "  <thead>\n",
       "    <tr style=\"text-align: right;\">\n",
       "      <th></th>\n",
       "      <th>instant</th>\n",
       "      <th>dteday</th>\n",
       "      <th>mnth</th>\n",
       "      <th>hr</th>\n",
       "      <th>holiday</th>\n",
       "      <th>weekday</th>\n",
       "      <th>weathersit</th>\n",
       "      <th>temp</th>\n",
       "      <th>atemp</th>\n",
       "      <th>hum</th>\n",
       "      <th>windspeed</th>\n",
       "      <th>casual</th>\n",
       "      <th>registered</th>\n",
       "      <th>cnt</th>\n",
       "    </tr>\n",
       "  </thead>\n",
       "  <tbody>\n",
       "    <tr>\n",
       "      <th>0</th>\n",
       "      <td>1</td>\n",
       "      <td>2011-01-01</td>\n",
       "      <td>1</td>\n",
       "      <td>0</td>\n",
       "      <td>0</td>\n",
       "      <td>6</td>\n",
       "      <td>1</td>\n",
       "      <td>0.24</td>\n",
       "      <td>0.2879</td>\n",
       "      <td>0.81</td>\n",
       "      <td>0.0</td>\n",
       "      <td>3</td>\n",
       "      <td>13</td>\n",
       "      <td>16</td>\n",
       "    </tr>\n",
       "    <tr>\n",
       "      <th>1</th>\n",
       "      <td>2</td>\n",
       "      <td>2011-01-01</td>\n",
       "      <td>1</td>\n",
       "      <td>1</td>\n",
       "      <td>0</td>\n",
       "      <td>6</td>\n",
       "      <td>1</td>\n",
       "      <td>0.22</td>\n",
       "      <td>0.2727</td>\n",
       "      <td>0.80</td>\n",
       "      <td>0.0</td>\n",
       "      <td>8</td>\n",
       "      <td>32</td>\n",
       "      <td>40</td>\n",
       "    </tr>\n",
       "    <tr>\n",
       "      <th>2</th>\n",
       "      <td>3</td>\n",
       "      <td>2011-01-01</td>\n",
       "      <td>1</td>\n",
       "      <td>2</td>\n",
       "      <td>0</td>\n",
       "      <td>6</td>\n",
       "      <td>1</td>\n",
       "      <td>0.22</td>\n",
       "      <td>0.2727</td>\n",
       "      <td>0.80</td>\n",
       "      <td>0.0</td>\n",
       "      <td>5</td>\n",
       "      <td>27</td>\n",
       "      <td>32</td>\n",
       "    </tr>\n",
       "    <tr>\n",
       "      <th>3</th>\n",
       "      <td>4</td>\n",
       "      <td>2011-01-01</td>\n",
       "      <td>1</td>\n",
       "      <td>3</td>\n",
       "      <td>0</td>\n",
       "      <td>6</td>\n",
       "      <td>1</td>\n",
       "      <td>0.24</td>\n",
       "      <td>0.2879</td>\n",
       "      <td>0.75</td>\n",
       "      <td>0.0</td>\n",
       "      <td>3</td>\n",
       "      <td>10</td>\n",
       "      <td>13</td>\n",
       "    </tr>\n",
       "    <tr>\n",
       "      <th>4</th>\n",
       "      <td>5</td>\n",
       "      <td>2011-01-01</td>\n",
       "      <td>1</td>\n",
       "      <td>4</td>\n",
       "      <td>0</td>\n",
       "      <td>6</td>\n",
       "      <td>1</td>\n",
       "      <td>0.24</td>\n",
       "      <td>0.2879</td>\n",
       "      <td>0.75</td>\n",
       "      <td>0.0</td>\n",
       "      <td>0</td>\n",
       "      <td>1</td>\n",
       "      <td>1</td>\n",
       "    </tr>\n",
       "  </tbody>\n",
       "</table>\n",
       "</div>"
      ],
      "text/plain": [
       "   instant     dteday  mnth  hr  holiday  weekday  weathersit  temp   atemp  \\\n",
       "0        1 2011-01-01     1   0        0        6           1  0.24  0.2879   \n",
       "1        2 2011-01-01     1   1        0        6           1  0.22  0.2727   \n",
       "2        3 2011-01-01     1   2        0        6           1  0.22  0.2727   \n",
       "3        4 2011-01-01     1   3        0        6           1  0.24  0.2879   \n",
       "4        5 2011-01-01     1   4        0        6           1  0.24  0.2879   \n",
       "\n",
       "    hum  windspeed  casual  registered  cnt  \n",
       "0  0.81        0.0       3          13   16  \n",
       "1  0.80        0.0       8          32   40  \n",
       "2  0.80        0.0       5          27   32  \n",
       "3  0.75        0.0       3          10   13  \n",
       "4  0.75        0.0       0           1    1  "
      ]
     },
     "execution_count": 45,
     "metadata": {},
     "output_type": "execute_result"
    }
   ],
   "source": [
    "# Remove columns with only one unique value from the merged_df\n",
    "merged_df = merged_df.drop(columns=['season','yr'])\n",
    "\n",
    "# Print the merged_df after removing columns\n",
    "merged_df.head()"
   ]
  },
  {
   "cell_type": "markdown",
   "id": "c30c3fe0",
   "metadata": {},
   "source": [
    "# dataset_3"
   ]
  },
  {
   "cell_type": "code",
   "execution_count": 46,
   "id": "d8cdf0cb",
   "metadata": {
    "scrolled": true
   },
   "outputs": [
    {
     "data": {
      "text/html": [
       "<div>\n",
       "<style scoped>\n",
       "    .dataframe tbody tr th:only-of-type {\n",
       "        vertical-align: middle;\n",
       "    }\n",
       "\n",
       "    .dataframe tbody tr th {\n",
       "        vertical-align: top;\n",
       "    }\n",
       "\n",
       "    .dataframe thead th {\n",
       "        text-align: right;\n",
       "    }\n",
       "</style>\n",
       "<table border=\"1\" class=\"dataframe\">\n",
       "  <thead>\n",
       "    <tr style=\"text-align: right;\">\n",
       "      <th></th>\n",
       "      <th>instant</th>\n",
       "      <th>dteday</th>\n",
       "      <th>season</th>\n",
       "      <th>yr</th>\n",
       "      <th>mnth</th>\n",
       "      <th>hr</th>\n",
       "      <th>holiday</th>\n",
       "      <th>weekday</th>\n",
       "      <th>weathersit</th>\n",
       "      <th>temp</th>\n",
       "      <th>atemp</th>\n",
       "      <th>hum</th>\n",
       "      <th>windspeed</th>\n",
       "      <th>casual</th>\n",
       "      <th>registered</th>\n",
       "      <th>cnt</th>\n",
       "    </tr>\n",
       "  </thead>\n",
       "  <tbody>\n",
       "    <tr>\n",
       "      <th>0</th>\n",
       "      <td>620</td>\n",
       "      <td>2011-01-29</td>\n",
       "      <td>1</td>\n",
       "      <td>0</td>\n",
       "      <td>1</td>\n",
       "      <td>1</td>\n",
       "      <td>False</td>\n",
       "      <td>6</td>\n",
       "      <td>1</td>\n",
       "      <td>0.22</td>\n",
       "      <td>0.2273</td>\n",
       "      <td>0.64</td>\n",
       "      <td>0.1940</td>\n",
       "      <td>0</td>\n",
       "      <td>20</td>\n",
       "      <td>20</td>\n",
       "    </tr>\n",
       "    <tr>\n",
       "      <th>1</th>\n",
       "      <td>621</td>\n",
       "      <td>2011-01-29</td>\n",
       "      <td>1</td>\n",
       "      <td>0</td>\n",
       "      <td>1</td>\n",
       "      <td>2</td>\n",
       "      <td>False</td>\n",
       "      <td>6</td>\n",
       "      <td>1</td>\n",
       "      <td>0.22</td>\n",
       "      <td>0.2273</td>\n",
       "      <td>0.64</td>\n",
       "      <td>0.1642</td>\n",
       "      <td>0</td>\n",
       "      <td>15</td>\n",
       "      <td>15</td>\n",
       "    </tr>\n",
       "    <tr>\n",
       "      <th>2</th>\n",
       "      <td>622</td>\n",
       "      <td>2011-01-29</td>\n",
       "      <td>1</td>\n",
       "      <td>0</td>\n",
       "      <td>1</td>\n",
       "      <td>3</td>\n",
       "      <td>False</td>\n",
       "      <td>6</td>\n",
       "      <td>1</td>\n",
       "      <td>0.20</td>\n",
       "      <td>0.2121</td>\n",
       "      <td>0.64</td>\n",
       "      <td>0.1343</td>\n",
       "      <td>3</td>\n",
       "      <td>5</td>\n",
       "      <td>8</td>\n",
       "    </tr>\n",
       "    <tr>\n",
       "      <th>3</th>\n",
       "      <td>623</td>\n",
       "      <td>2011-01-29</td>\n",
       "      <td>1</td>\n",
       "      <td>0</td>\n",
       "      <td>1</td>\n",
       "      <td>4</td>\n",
       "      <td>False</td>\n",
       "      <td>6</td>\n",
       "      <td>1</td>\n",
       "      <td>0.16</td>\n",
       "      <td>0.1818</td>\n",
       "      <td>0.69</td>\n",
       "      <td>0.1045</td>\n",
       "      <td>1</td>\n",
       "      <td>2</td>\n",
       "      <td>3</td>\n",
       "    </tr>\n",
       "    <tr>\n",
       "      <th>4</th>\n",
       "      <td>624</td>\n",
       "      <td>2011-01-29</td>\n",
       "      <td>1</td>\n",
       "      <td>0</td>\n",
       "      <td>1</td>\n",
       "      <td>6</td>\n",
       "      <td>False</td>\n",
       "      <td>6</td>\n",
       "      <td>1</td>\n",
       "      <td>0.16</td>\n",
       "      <td>0.1818</td>\n",
       "      <td>0.64</td>\n",
       "      <td>0.1343</td>\n",
       "      <td>0</td>\n",
       "      <td>2</td>\n",
       "      <td>2</td>\n",
       "    </tr>\n",
       "  </tbody>\n",
       "</table>\n",
       "</div>"
      ],
      "text/plain": [
       "   instant     dteday  season  yr  mnth  hr  holiday  weekday  weathersit  \\\n",
       "0      620 2011-01-29       1   0     1   1    False        6           1   \n",
       "1      621 2011-01-29       1   0     1   2    False        6           1   \n",
       "2      622 2011-01-29       1   0     1   3    False        6           1   \n",
       "3      623 2011-01-29       1   0     1   4    False        6           1   \n",
       "4      624 2011-01-29       1   0     1   6    False        6           1   \n",
       "\n",
       "   temp   atemp   hum  windspeed  casual  registered  cnt  \n",
       "0  0.22  0.2273  0.64     0.1940       0          20   20  \n",
       "1  0.22  0.2273  0.64     0.1642       0          15   15  \n",
       "2  0.20  0.2121  0.64     0.1343       3           5    8  \n",
       "3  0.16  0.1818  0.69     0.1045       1           2    3  \n",
       "4  0.16  0.1818  0.64     0.1343       0           2    2  "
      ]
     },
     "execution_count": 46,
     "metadata": {},
     "output_type": "execute_result"
    }
   ],
   "source": [
    "#Uploading the dataset_3\n",
    "df3=pd.read_excel(\"dataset_3.xlsx\")\n",
    "df3.head()"
   ]
  },
  {
   "cell_type": "code",
   "execution_count": 47,
   "id": "1a8abf5e",
   "metadata": {},
   "outputs": [
    {
     "data": {
      "text/plain": [
       "(390, 16)"
      ]
     },
     "execution_count": 47,
     "metadata": {},
     "output_type": "execute_result"
    }
   ],
   "source": [
    "#Checking the shape of df3\n",
    "df3.shape"
   ]
  },
  {
   "cell_type": "code",
   "execution_count": 48,
   "id": "a8f6a67a",
   "metadata": {
    "scrolled": true
   },
   "outputs": [
    {
     "data": {
      "text/plain": [
       "Index(['instant', 'dteday', 'season', 'yr', 'mnth', 'hr', 'holiday', 'weekday',\n",
       "       'weathersit', 'temp', 'atemp', 'hum', 'windspeed', 'casual',\n",
       "       'registered', 'cnt'],\n",
       "      dtype='object')"
      ]
     },
     "execution_count": 48,
     "metadata": {},
     "output_type": "execute_result"
    }
   ],
   "source": [
    "#checking columns present in df2\n",
    "df3.columns"
   ]
  },
  {
   "cell_type": "code",
   "execution_count": 49,
   "id": "e4aac438",
   "metadata": {},
   "outputs": [
    {
     "data": {
      "text/plain": [
       "array([1], dtype=int64)"
      ]
     },
     "execution_count": 49,
     "metadata": {},
     "output_type": "execute_result"
    }
   ],
   "source": [
    "#checking unique values in df2\n",
    "df3['season'].unique()"
   ]
  },
  {
   "cell_type": "code",
   "execution_count": 50,
   "id": "ba3d3413",
   "metadata": {},
   "outputs": [
    {
     "data": {
      "text/plain": [
       "array([0], dtype=int64)"
      ]
     },
     "execution_count": 50,
     "metadata": {},
     "output_type": "execute_result"
    }
   ],
   "source": [
    "df3['yr'].unique()"
   ]
  },
  {
   "cell_type": "code",
   "execution_count": 51,
   "id": "7228cdb0",
   "metadata": {},
   "outputs": [
    {
     "data": {
      "text/plain": [
       "array([1, 2], dtype=int64)"
      ]
     },
     "execution_count": 51,
     "metadata": {},
     "output_type": "execute_result"
    }
   ],
   "source": [
    "df3['mnth'].unique()"
   ]
  },
  {
   "cell_type": "code",
   "execution_count": 52,
   "id": "ad3f823b",
   "metadata": {},
   "outputs": [
    {
     "data": {
      "text/plain": [
       "array([ 1,  2,  3,  4,  6,  7,  8,  9, 10, 11, 12, 13, 14, 15, 16, 17, 18,\n",
       "       19, 20, 21, 22, 23,  0,  5], dtype=int64)"
      ]
     },
     "execution_count": 52,
     "metadata": {},
     "output_type": "execute_result"
    }
   ],
   "source": [
    "df3['hr'].unique()"
   ]
  },
  {
   "cell_type": "code",
   "execution_count": 53,
   "id": "7ba9f136",
   "metadata": {},
   "outputs": [
    {
     "data": {
      "text/plain": [
       "array([False])"
      ]
     },
     "execution_count": 53,
     "metadata": {},
     "output_type": "execute_result"
    }
   ],
   "source": [
    "df3['holiday'].unique()"
   ]
  },
  {
   "cell_type": "code",
   "execution_count": 54,
   "id": "dc954380",
   "metadata": {},
   "outputs": [
    {
     "data": {
      "text/plain": [
       "array([6, 0, 1, 2, 3, 4, 5], dtype=int64)"
      ]
     },
     "execution_count": 54,
     "metadata": {},
     "output_type": "execute_result"
    }
   ],
   "source": [
    "df3['weekday'].unique()"
   ]
  },
  {
   "cell_type": "code",
   "execution_count": 55,
   "id": "2bec747d",
   "metadata": {},
   "outputs": [
    {
     "data": {
      "text/plain": [
       "array([1, 2, 3], dtype=int64)"
      ]
     },
     "execution_count": 55,
     "metadata": {},
     "output_type": "execute_result"
    }
   ],
   "source": [
    "df3['weathersit'].unique()"
   ]
  },
  {
   "cell_type": "code",
   "execution_count": 56,
   "id": "02417df9",
   "metadata": {},
   "outputs": [
    {
     "data": {
      "text/plain": [
       "array([0.22, 0.2 , 0.16, 0.18, 0.24, 0.14, 0.3 , 0.28, 0.26, 0.34, 0.38,\n",
       "       0.36, 0.32, 0.12, 0.1 , 0.08, 0.06, 0.4 , 0.42])"
      ]
     },
     "execution_count": 56,
     "metadata": {},
     "output_type": "execute_result"
    }
   ],
   "source": [
    "df3['temp'].unique()"
   ]
  },
  {
   "cell_type": "code",
   "execution_count": 57,
   "id": "4f50a114",
   "metadata": {},
   "outputs": [
    {
     "data": {
      "text/plain": [
       "array([0.2273, 0.2121, 0.1818, 0.197 , 0.2424, 0.2879, 0.2727, 0.3182,\n",
       "       0.303 , 0.3333, 0.2576, 0.1667, 0.1364, 0.1515, 0.3939, 0.1212,\n",
       "       0.3636, 0.3485, 0.1061, 0.0758, 0.4091, 0.4242])"
      ]
     },
     "execution_count": 57,
     "metadata": {},
     "output_type": "execute_result"
    }
   ],
   "source": [
    "df3['atemp'].unique()"
   ]
  },
  {
   "cell_type": "code",
   "execution_count": 58,
   "id": "3530fd43",
   "metadata": {},
   "outputs": [
    {
     "data": {
      "text/plain": [
       "array([0.64, 0.69, 0.59, 0.55, 0.6 , 0.74, 0.8 , 0.93, 0.86, 0.75, 0.52,\n",
       "       0.61, 0.56, 0.65, 0.7 , 0.81, 0.87, 1.  , 0.82, 0.76, 0.71, 0.53,\n",
       "       0.42, 0.45, 0.48, 0.47, 0.44, 0.4 , 0.43, 0.5 , 0.37, 0.51, 0.63,\n",
       "       0.49, 0.46, 0.62, 0.57, 0.54, 0.66, 0.38, 0.32, 0.35, 0.33, 0.36,\n",
       "       0.39, 0.34, 0.29, 0.27, 0.25, 0.26, 0.28, 0.31, 0.68, 0.73, 0.21,\n",
       "       0.24, 0.41, 0.3 ])"
      ]
     },
     "execution_count": 58,
     "metadata": {},
     "output_type": "execute_result"
    }
   ],
   "source": [
    "df3['hum'].unique()"
   ]
  },
  {
   "cell_type": "code",
   "execution_count": 59,
   "id": "4ba99e6a",
   "metadata": {},
   "outputs": [
    {
     "data": {
      "text/plain": [
       "array([0.194 , 0.1642, 0.1343, 0.1045, 0.0896, 0.2537, 0.    , 0.2836,\n",
       "       0.2239, 0.3284, 0.2985, 0.3881, 0.5224, 0.5522, 0.4925, 0.4478,\n",
       "       0.3582, 0.4179, 0.4627, 0.5821])"
      ]
     },
     "execution_count": 59,
     "metadata": {},
     "output_type": "execute_result"
    }
   ],
   "source": [
    "df3['windspeed'].unique()"
   ]
  },
  {
   "cell_type": "code",
   "execution_count": 60,
   "id": "89e56bcd",
   "metadata": {},
   "outputs": [
    {
     "data": {
      "text/plain": [
       "array([ 0,  3,  1,  4, 12,  9, 10, 22, 19,  6,  7, 13, 18, 14,  8,  2,  5,\n",
       "       15, 11, 28, 48, 47, 52, 42, 24, 16, 21, 17, 30, 27, 32, 26, 58, 62,\n",
       "       51, 40], dtype=int64)"
      ]
     },
     "execution_count": 60,
     "metadata": {},
     "output_type": "execute_result"
    }
   ],
   "source": [
    "df3['casual'].unique()"
   ]
  },
  {
   "cell_type": "code",
   "execution_count": 61,
   "id": "1ad1fc18",
   "metadata": {
    "scrolled": true
   },
   "outputs": [
    {
     "data": {
      "text/plain": [
       "array([ 20,  15,   5,   2,   4,  31,  34,  51,  60,  66,  56,  89,  98,\n",
       "        88,  82,  59,  52,  42,  35,  28,  30,  33,  22,  10,   7,   1,\n",
       "         3,  11,  57,  50,  87,  71, 104,  95,  46,  25,  19,  16,   6,\n",
       "         8,  37, 182, 112,  68,  62,  85,  41,  83, 155, 153, 108,  78,\n",
       "        53, 132, 114,  47,  49,  45,  61, 172, 165, 105,  69,  64,   0,\n",
       "        17,  48, 154, 119,  74, 183, 175,  29,  39,  86, 184, 127,  55,\n",
       "        67,  43,  73, 170, 145,  92,  26, 217, 124,  76,  81,  91, 195,\n",
       "       152, 102,  36,  12,   9,  63,  40,  21,  38, 126, 135, 130, 115,\n",
       "        97,  65,  14, 223,  54, 207, 123,  75, 236, 128,  44,  79, 151,\n",
       "       100, 198,  72, 157, 168,  84,  99, 173, 121, 159, 110,  93,  70,\n",
       "        23, 212, 111, 193,  94,  27,  13, 103,  90, 113, 122, 106,  32,\n",
       "        96, 147, 107], dtype=int64)"
      ]
     },
     "execution_count": 61,
     "metadata": {},
     "output_type": "execute_result"
    }
   ],
   "source": [
    "df3['registered'].unique()"
   ]
  },
  {
   "cell_type": "code",
   "execution_count": 62,
   "id": "44eaa07c",
   "metadata": {
    "scrolled": true
   },
   "outputs": [
    {
     "data": {
      "text/plain": [
       "array([ 20,  15,   8,   3,   2,   5,  34,  55,  64,  78,  65,  99, 120,\n",
       "       107,  91,  68,  58,  43,  36,  32,  33,  29,  11,   1,  12,  38,\n",
       "        59,  97,  84, 122, 109, 123,  77,  28,  21,   7,  37,  72, 185,\n",
       "       112,  69,  48,  54,  86,  44, 161, 156, 111,  56,  17,  22,  52,\n",
       "       135, 116,  47,  51, 176, 168, 108,  74,  16,   4,  18,  49, 155,\n",
       "        61,  75,  63,  76, 103, 190, 182,  40,  39,  87, 188, 133,  60,\n",
       "       175, 147,  96,  41,  13, 220, 127,  82,  90, 205,  71,  46,  31,\n",
       "         9,  10,  83,  45,  23,  89, 117, 174, 157, 121,  26,  27,  62,\n",
       "        30,  95, 230, 118,  66,  50, 114, 216, 128,  88,  25, 100, 243,\n",
       "       152, 101, 199,  79, 166, 170,   6, 178,  35,  80, 165, 160,  14,\n",
       "        24, 140, 110, 125, 211,  53, 145, 137, 105, 154, 162, 134,  98,\n",
       "       149], dtype=int64)"
      ]
     },
     "execution_count": 62,
     "metadata": {},
     "output_type": "execute_result"
    }
   ],
   "source": [
    "df3['cnt'].unique()"
   ]
  },
  {
   "cell_type": "code",
   "execution_count": 63,
   "id": "d4df69d9",
   "metadata": {},
   "outputs": [
    {
     "data": {
      "text/plain": [
       "instant       0\n",
       "dteday        0\n",
       "season        0\n",
       "yr            0\n",
       "mnth          0\n",
       "hr            0\n",
       "holiday       0\n",
       "weekday       0\n",
       "weathersit    0\n",
       "temp          0\n",
       "atemp         0\n",
       "hum           0\n",
       "windspeed     0\n",
       "casual        0\n",
       "registered    0\n",
       "cnt           0\n",
       "dtype: int64"
      ]
     },
     "execution_count": 63,
     "metadata": {},
     "output_type": "execute_result"
    }
   ],
   "source": [
    "#checking the missing values in df 3\n",
    "df3.isna().sum()"
   ]
  },
  {
   "cell_type": "code",
   "execution_count": 64,
   "id": "50b5d89b",
   "metadata": {},
   "outputs": [],
   "source": [
    "#Replacing the Categorical data into the numeric data for holiday column in df3\n",
    "df3['holiday']=df3['holiday'].replace({True:1,False:0})"
   ]
  },
  {
   "cell_type": "code",
   "execution_count": 65,
   "id": "9fdbfa76",
   "metadata": {
    "scrolled": true
   },
   "outputs": [
    {
     "data": {
      "text/html": [
       "<div>\n",
       "<style scoped>\n",
       "    .dataframe tbody tr th:only-of-type {\n",
       "        vertical-align: middle;\n",
       "    }\n",
       "\n",
       "    .dataframe tbody tr th {\n",
       "        vertical-align: top;\n",
       "    }\n",
       "\n",
       "    .dataframe thead th {\n",
       "        text-align: right;\n",
       "    }\n",
       "</style>\n",
       "<table border=\"1\" class=\"dataframe\">\n",
       "  <thead>\n",
       "    <tr style=\"text-align: right;\">\n",
       "      <th></th>\n",
       "      <th>instant</th>\n",
       "      <th>dteday</th>\n",
       "      <th>season</th>\n",
       "      <th>yr</th>\n",
       "      <th>mnth</th>\n",
       "      <th>hr</th>\n",
       "      <th>holiday</th>\n",
       "      <th>weekday</th>\n",
       "      <th>weathersit</th>\n",
       "      <th>temp</th>\n",
       "      <th>atemp</th>\n",
       "      <th>hum</th>\n",
       "      <th>windspeed</th>\n",
       "      <th>casual</th>\n",
       "      <th>registered</th>\n",
       "      <th>cnt</th>\n",
       "    </tr>\n",
       "  </thead>\n",
       "  <tbody>\n",
       "    <tr>\n",
       "      <th>0</th>\n",
       "      <td>620</td>\n",
       "      <td>2011-01-29</td>\n",
       "      <td>1</td>\n",
       "      <td>0</td>\n",
       "      <td>1</td>\n",
       "      <td>1</td>\n",
       "      <td>0</td>\n",
       "      <td>6</td>\n",
       "      <td>1</td>\n",
       "      <td>0.22</td>\n",
       "      <td>0.2273</td>\n",
       "      <td>0.64</td>\n",
       "      <td>0.1940</td>\n",
       "      <td>0</td>\n",
       "      <td>20</td>\n",
       "      <td>20</td>\n",
       "    </tr>\n",
       "    <tr>\n",
       "      <th>1</th>\n",
       "      <td>621</td>\n",
       "      <td>2011-01-29</td>\n",
       "      <td>1</td>\n",
       "      <td>0</td>\n",
       "      <td>1</td>\n",
       "      <td>2</td>\n",
       "      <td>0</td>\n",
       "      <td>6</td>\n",
       "      <td>1</td>\n",
       "      <td>0.22</td>\n",
       "      <td>0.2273</td>\n",
       "      <td>0.64</td>\n",
       "      <td>0.1642</td>\n",
       "      <td>0</td>\n",
       "      <td>15</td>\n",
       "      <td>15</td>\n",
       "    </tr>\n",
       "    <tr>\n",
       "      <th>2</th>\n",
       "      <td>622</td>\n",
       "      <td>2011-01-29</td>\n",
       "      <td>1</td>\n",
       "      <td>0</td>\n",
       "      <td>1</td>\n",
       "      <td>3</td>\n",
       "      <td>0</td>\n",
       "      <td>6</td>\n",
       "      <td>1</td>\n",
       "      <td>0.20</td>\n",
       "      <td>0.2121</td>\n",
       "      <td>0.64</td>\n",
       "      <td>0.1343</td>\n",
       "      <td>3</td>\n",
       "      <td>5</td>\n",
       "      <td>8</td>\n",
       "    </tr>\n",
       "    <tr>\n",
       "      <th>3</th>\n",
       "      <td>623</td>\n",
       "      <td>2011-01-29</td>\n",
       "      <td>1</td>\n",
       "      <td>0</td>\n",
       "      <td>1</td>\n",
       "      <td>4</td>\n",
       "      <td>0</td>\n",
       "      <td>6</td>\n",
       "      <td>1</td>\n",
       "      <td>0.16</td>\n",
       "      <td>0.1818</td>\n",
       "      <td>0.69</td>\n",
       "      <td>0.1045</td>\n",
       "      <td>1</td>\n",
       "      <td>2</td>\n",
       "      <td>3</td>\n",
       "    </tr>\n",
       "    <tr>\n",
       "      <th>4</th>\n",
       "      <td>624</td>\n",
       "      <td>2011-01-29</td>\n",
       "      <td>1</td>\n",
       "      <td>0</td>\n",
       "      <td>1</td>\n",
       "      <td>6</td>\n",
       "      <td>0</td>\n",
       "      <td>6</td>\n",
       "      <td>1</td>\n",
       "      <td>0.16</td>\n",
       "      <td>0.1818</td>\n",
       "      <td>0.64</td>\n",
       "      <td>0.1343</td>\n",
       "      <td>0</td>\n",
       "      <td>2</td>\n",
       "      <td>2</td>\n",
       "    </tr>\n",
       "    <tr>\n",
       "      <th>...</th>\n",
       "      <td>...</td>\n",
       "      <td>...</td>\n",
       "      <td>...</td>\n",
       "      <td>...</td>\n",
       "      <td>...</td>\n",
       "      <td>...</td>\n",
       "      <td>...</td>\n",
       "      <td>...</td>\n",
       "      <td>...</td>\n",
       "      <td>...</td>\n",
       "      <td>...</td>\n",
       "      <td>...</td>\n",
       "      <td>...</td>\n",
       "      <td>...</td>\n",
       "      <td>...</td>\n",
       "      <td>...</td>\n",
       "    </tr>\n",
       "    <tr>\n",
       "      <th>385</th>\n",
       "      <td>615</td>\n",
       "      <td>2011-01-28</td>\n",
       "      <td>1</td>\n",
       "      <td>0</td>\n",
       "      <td>1</td>\n",
       "      <td>20</td>\n",
       "      <td>0</td>\n",
       "      <td>5</td>\n",
       "      <td>2</td>\n",
       "      <td>0.24</td>\n",
       "      <td>0.2273</td>\n",
       "      <td>0.70</td>\n",
       "      <td>0.1940</td>\n",
       "      <td>1</td>\n",
       "      <td>61</td>\n",
       "      <td>62</td>\n",
       "    </tr>\n",
       "    <tr>\n",
       "      <th>386</th>\n",
       "      <td>616</td>\n",
       "      <td>2011-01-28</td>\n",
       "      <td>1</td>\n",
       "      <td>0</td>\n",
       "      <td>1</td>\n",
       "      <td>21</td>\n",
       "      <td>0</td>\n",
       "      <td>5</td>\n",
       "      <td>2</td>\n",
       "      <td>0.22</td>\n",
       "      <td>0.2273</td>\n",
       "      <td>0.75</td>\n",
       "      <td>0.1343</td>\n",
       "      <td>1</td>\n",
       "      <td>57</td>\n",
       "      <td>58</td>\n",
       "    </tr>\n",
       "    <tr>\n",
       "      <th>387</th>\n",
       "      <td>617</td>\n",
       "      <td>2011-01-28</td>\n",
       "      <td>1</td>\n",
       "      <td>0</td>\n",
       "      <td>1</td>\n",
       "      <td>22</td>\n",
       "      <td>0</td>\n",
       "      <td>5</td>\n",
       "      <td>1</td>\n",
       "      <td>0.24</td>\n",
       "      <td>0.2121</td>\n",
       "      <td>0.65</td>\n",
       "      <td>0.3582</td>\n",
       "      <td>0</td>\n",
       "      <td>26</td>\n",
       "      <td>26</td>\n",
       "    </tr>\n",
       "    <tr>\n",
       "      <th>388</th>\n",
       "      <td>618</td>\n",
       "      <td>2011-01-28</td>\n",
       "      <td>1</td>\n",
       "      <td>0</td>\n",
       "      <td>1</td>\n",
       "      <td>23</td>\n",
       "      <td>0</td>\n",
       "      <td>5</td>\n",
       "      <td>1</td>\n",
       "      <td>0.24</td>\n",
       "      <td>0.2273</td>\n",
       "      <td>0.60</td>\n",
       "      <td>0.2239</td>\n",
       "      <td>1</td>\n",
       "      <td>22</td>\n",
       "      <td>23</td>\n",
       "    </tr>\n",
       "    <tr>\n",
       "      <th>389</th>\n",
       "      <td>619</td>\n",
       "      <td>2011-01-29</td>\n",
       "      <td>1</td>\n",
       "      <td>0</td>\n",
       "      <td>1</td>\n",
       "      <td>0</td>\n",
       "      <td>0</td>\n",
       "      <td>6</td>\n",
       "      <td>1</td>\n",
       "      <td>0.22</td>\n",
       "      <td>0.1970</td>\n",
       "      <td>0.64</td>\n",
       "      <td>0.3582</td>\n",
       "      <td>2</td>\n",
       "      <td>26</td>\n",
       "      <td>28</td>\n",
       "    </tr>\n",
       "  </tbody>\n",
       "</table>\n",
       "<p>390 rows × 16 columns</p>\n",
       "</div>"
      ],
      "text/plain": [
       "     instant     dteday  season  yr  mnth  hr  holiday  weekday  weathersit  \\\n",
       "0        620 2011-01-29       1   0     1   1        0        6           1   \n",
       "1        621 2011-01-29       1   0     1   2        0        6           1   \n",
       "2        622 2011-01-29       1   0     1   3        0        6           1   \n",
       "3        623 2011-01-29       1   0     1   4        0        6           1   \n",
       "4        624 2011-01-29       1   0     1   6        0        6           1   \n",
       "..       ...        ...     ...  ..   ...  ..      ...      ...         ...   \n",
       "385      615 2011-01-28       1   0     1  20        0        5           2   \n",
       "386      616 2011-01-28       1   0     1  21        0        5           2   \n",
       "387      617 2011-01-28       1   0     1  22        0        5           1   \n",
       "388      618 2011-01-28       1   0     1  23        0        5           1   \n",
       "389      619 2011-01-29       1   0     1   0        0        6           1   \n",
       "\n",
       "     temp   atemp   hum  windspeed  casual  registered  cnt  \n",
       "0    0.22  0.2273  0.64     0.1940       0          20   20  \n",
       "1    0.22  0.2273  0.64     0.1642       0          15   15  \n",
       "2    0.20  0.2121  0.64     0.1343       3           5    8  \n",
       "3    0.16  0.1818  0.69     0.1045       1           2    3  \n",
       "4    0.16  0.1818  0.64     0.1343       0           2    2  \n",
       "..    ...     ...   ...        ...     ...         ...  ...  \n",
       "385  0.24  0.2273  0.70     0.1940       1          61   62  \n",
       "386  0.22  0.2273  0.75     0.1343       1          57   58  \n",
       "387  0.24  0.2121  0.65     0.3582       0          26   26  \n",
       "388  0.24  0.2273  0.60     0.2239       1          22   23  \n",
       "389  0.22  0.1970  0.64     0.3582       2          26   28  \n",
       "\n",
       "[390 rows x 16 columns]"
      ]
     },
     "execution_count": 65,
     "metadata": {},
     "output_type": "execute_result"
    }
   ],
   "source": [
    "df3"
   ]
  },
  {
   "cell_type": "code",
   "execution_count": 66,
   "id": "d1eba7fa",
   "metadata": {},
   "outputs": [
    {
     "data": {
      "text/plain": [
       "0    390\n",
       "Name: holiday, dtype: int64"
      ]
     },
     "execution_count": 66,
     "metadata": {},
     "output_type": "execute_result"
    }
   ],
   "source": [
    "#reverify the value counts in df3\n",
    "df3['holiday'].value_counts()"
   ]
  },
  {
   "cell_type": "code",
   "execution_count": 67,
   "id": "d72606e5",
   "metadata": {},
   "outputs": [
    {
     "data": {
      "text/html": [
       "<div>\n",
       "<style scoped>\n",
       "    .dataframe tbody tr th:only-of-type {\n",
       "        vertical-align: middle;\n",
       "    }\n",
       "\n",
       "    .dataframe tbody tr th {\n",
       "        vertical-align: top;\n",
       "    }\n",
       "\n",
       "    .dataframe thead th {\n",
       "        text-align: right;\n",
       "    }\n",
       "</style>\n",
       "<table border=\"1\" class=\"dataframe\">\n",
       "  <thead>\n",
       "    <tr style=\"text-align: right;\">\n",
       "      <th></th>\n",
       "      <th>instant</th>\n",
       "      <th>dteday</th>\n",
       "      <th>mnth</th>\n",
       "      <th>hr</th>\n",
       "      <th>holiday</th>\n",
       "      <th>weekday</th>\n",
       "      <th>weathersit</th>\n",
       "      <th>temp</th>\n",
       "      <th>atemp</th>\n",
       "      <th>hum</th>\n",
       "      <th>windspeed</th>\n",
       "      <th>casual</th>\n",
       "      <th>registered</th>\n",
       "      <th>cnt</th>\n",
       "    </tr>\n",
       "  </thead>\n",
       "  <tbody>\n",
       "    <tr>\n",
       "      <th>0</th>\n",
       "      <td>620</td>\n",
       "      <td>2011-01-29</td>\n",
       "      <td>1</td>\n",
       "      <td>1</td>\n",
       "      <td>0</td>\n",
       "      <td>6</td>\n",
       "      <td>1</td>\n",
       "      <td>0.22</td>\n",
       "      <td>0.2273</td>\n",
       "      <td>0.64</td>\n",
       "      <td>0.1940</td>\n",
       "      <td>0</td>\n",
       "      <td>20</td>\n",
       "      <td>20</td>\n",
       "    </tr>\n",
       "    <tr>\n",
       "      <th>1</th>\n",
       "      <td>621</td>\n",
       "      <td>2011-01-29</td>\n",
       "      <td>1</td>\n",
       "      <td>2</td>\n",
       "      <td>0</td>\n",
       "      <td>6</td>\n",
       "      <td>1</td>\n",
       "      <td>0.22</td>\n",
       "      <td>0.2273</td>\n",
       "      <td>0.64</td>\n",
       "      <td>0.1642</td>\n",
       "      <td>0</td>\n",
       "      <td>15</td>\n",
       "      <td>15</td>\n",
       "    </tr>\n",
       "    <tr>\n",
       "      <th>2</th>\n",
       "      <td>622</td>\n",
       "      <td>2011-01-29</td>\n",
       "      <td>1</td>\n",
       "      <td>3</td>\n",
       "      <td>0</td>\n",
       "      <td>6</td>\n",
       "      <td>1</td>\n",
       "      <td>0.20</td>\n",
       "      <td>0.2121</td>\n",
       "      <td>0.64</td>\n",
       "      <td>0.1343</td>\n",
       "      <td>3</td>\n",
       "      <td>5</td>\n",
       "      <td>8</td>\n",
       "    </tr>\n",
       "    <tr>\n",
       "      <th>3</th>\n",
       "      <td>623</td>\n",
       "      <td>2011-01-29</td>\n",
       "      <td>1</td>\n",
       "      <td>4</td>\n",
       "      <td>0</td>\n",
       "      <td>6</td>\n",
       "      <td>1</td>\n",
       "      <td>0.16</td>\n",
       "      <td>0.1818</td>\n",
       "      <td>0.69</td>\n",
       "      <td>0.1045</td>\n",
       "      <td>1</td>\n",
       "      <td>2</td>\n",
       "      <td>3</td>\n",
       "    </tr>\n",
       "    <tr>\n",
       "      <th>4</th>\n",
       "      <td>624</td>\n",
       "      <td>2011-01-29</td>\n",
       "      <td>1</td>\n",
       "      <td>6</td>\n",
       "      <td>0</td>\n",
       "      <td>6</td>\n",
       "      <td>1</td>\n",
       "      <td>0.16</td>\n",
       "      <td>0.1818</td>\n",
       "      <td>0.64</td>\n",
       "      <td>0.1343</td>\n",
       "      <td>0</td>\n",
       "      <td>2</td>\n",
       "      <td>2</td>\n",
       "    </tr>\n",
       "  </tbody>\n",
       "</table>\n",
       "</div>"
      ],
      "text/plain": [
       "   instant     dteday  mnth  hr  holiday  weekday  weathersit  temp   atemp  \\\n",
       "0      620 2011-01-29     1   1        0        6           1  0.22  0.2273   \n",
       "1      621 2011-01-29     1   2        0        6           1  0.22  0.2273   \n",
       "2      622 2011-01-29     1   3        0        6           1  0.20  0.2121   \n",
       "3      623 2011-01-29     1   4        0        6           1  0.16  0.1818   \n",
       "4      624 2011-01-29     1   6        0        6           1  0.16  0.1818   \n",
       "\n",
       "    hum  windspeed  casual  registered  cnt  \n",
       "0  0.64     0.1940       0          20   20  \n",
       "1  0.64     0.1642       0          15   15  \n",
       "2  0.64     0.1343       3           5    8  \n",
       "3  0.69     0.1045       1           2    3  \n",
       "4  0.64     0.1343       0           2    2  "
      ]
     },
     "execution_count": 67,
     "metadata": {},
     "output_type": "execute_result"
    }
   ],
   "source": [
    "# Remove columns with only one unique value from the df3\n",
    "df3 = df3.drop(columns=['season','yr'])\n",
    "\n",
    "# Print the df3 after removing columns\n",
    "df3.head()"
   ]
  },
  {
   "cell_type": "markdown",
   "id": "2c96ea07",
   "metadata": {},
   "source": [
    "# Appending the merged_df and df3"
   ]
  },
  {
   "cell_type": "code",
   "execution_count": 68,
   "id": "70ee0ea3",
   "metadata": {},
   "outputs": [],
   "source": [
    "new_df=merged_df.append(df3)"
   ]
  },
  {
   "cell_type": "code",
   "execution_count": 69,
   "id": "1215b5b9",
   "metadata": {},
   "outputs": [
    {
     "data": {
      "text/html": [
       "<div>\n",
       "<style scoped>\n",
       "    .dataframe tbody tr th:only-of-type {\n",
       "        vertical-align: middle;\n",
       "    }\n",
       "\n",
       "    .dataframe tbody tr th {\n",
       "        vertical-align: top;\n",
       "    }\n",
       "\n",
       "    .dataframe thead th {\n",
       "        text-align: right;\n",
       "    }\n",
       "</style>\n",
       "<table border=\"1\" class=\"dataframe\">\n",
       "  <thead>\n",
       "    <tr style=\"text-align: right;\">\n",
       "      <th></th>\n",
       "      <th>instant</th>\n",
       "      <th>dteday</th>\n",
       "      <th>mnth</th>\n",
       "      <th>hr</th>\n",
       "      <th>holiday</th>\n",
       "      <th>weekday</th>\n",
       "      <th>weathersit</th>\n",
       "      <th>temp</th>\n",
       "      <th>atemp</th>\n",
       "      <th>hum</th>\n",
       "      <th>windspeed</th>\n",
       "      <th>casual</th>\n",
       "      <th>registered</th>\n",
       "      <th>cnt</th>\n",
       "    </tr>\n",
       "  </thead>\n",
       "  <tbody>\n",
       "    <tr>\n",
       "      <th>0</th>\n",
       "      <td>1</td>\n",
       "      <td>2011-01-01</td>\n",
       "      <td>1</td>\n",
       "      <td>0</td>\n",
       "      <td>0</td>\n",
       "      <td>6</td>\n",
       "      <td>1</td>\n",
       "      <td>0.24</td>\n",
       "      <td>0.2879</td>\n",
       "      <td>0.81</td>\n",
       "      <td>0.0000</td>\n",
       "      <td>3</td>\n",
       "      <td>13</td>\n",
       "      <td>16</td>\n",
       "    </tr>\n",
       "    <tr>\n",
       "      <th>1</th>\n",
       "      <td>2</td>\n",
       "      <td>2011-01-01</td>\n",
       "      <td>1</td>\n",
       "      <td>1</td>\n",
       "      <td>0</td>\n",
       "      <td>6</td>\n",
       "      <td>1</td>\n",
       "      <td>0.22</td>\n",
       "      <td>0.2727</td>\n",
       "      <td>0.80</td>\n",
       "      <td>0.0000</td>\n",
       "      <td>8</td>\n",
       "      <td>32</td>\n",
       "      <td>40</td>\n",
       "    </tr>\n",
       "    <tr>\n",
       "      <th>2</th>\n",
       "      <td>3</td>\n",
       "      <td>2011-01-01</td>\n",
       "      <td>1</td>\n",
       "      <td>2</td>\n",
       "      <td>0</td>\n",
       "      <td>6</td>\n",
       "      <td>1</td>\n",
       "      <td>0.22</td>\n",
       "      <td>0.2727</td>\n",
       "      <td>0.80</td>\n",
       "      <td>0.0000</td>\n",
       "      <td>5</td>\n",
       "      <td>27</td>\n",
       "      <td>32</td>\n",
       "    </tr>\n",
       "    <tr>\n",
       "      <th>3</th>\n",
       "      <td>4</td>\n",
       "      <td>2011-01-01</td>\n",
       "      <td>1</td>\n",
       "      <td>3</td>\n",
       "      <td>0</td>\n",
       "      <td>6</td>\n",
       "      <td>1</td>\n",
       "      <td>0.24</td>\n",
       "      <td>0.2879</td>\n",
       "      <td>0.75</td>\n",
       "      <td>0.0000</td>\n",
       "      <td>3</td>\n",
       "      <td>10</td>\n",
       "      <td>13</td>\n",
       "    </tr>\n",
       "    <tr>\n",
       "      <th>4</th>\n",
       "      <td>5</td>\n",
       "      <td>2011-01-01</td>\n",
       "      <td>1</td>\n",
       "      <td>4</td>\n",
       "      <td>0</td>\n",
       "      <td>6</td>\n",
       "      <td>1</td>\n",
       "      <td>0.24</td>\n",
       "      <td>0.2879</td>\n",
       "      <td>0.75</td>\n",
       "      <td>0.0000</td>\n",
       "      <td>0</td>\n",
       "      <td>1</td>\n",
       "      <td>1</td>\n",
       "    </tr>\n",
       "    <tr>\n",
       "      <th>...</th>\n",
       "      <td>...</td>\n",
       "      <td>...</td>\n",
       "      <td>...</td>\n",
       "      <td>...</td>\n",
       "      <td>...</td>\n",
       "      <td>...</td>\n",
       "      <td>...</td>\n",
       "      <td>...</td>\n",
       "      <td>...</td>\n",
       "      <td>...</td>\n",
       "      <td>...</td>\n",
       "      <td>...</td>\n",
       "      <td>...</td>\n",
       "      <td>...</td>\n",
       "    </tr>\n",
       "    <tr>\n",
       "      <th>385</th>\n",
       "      <td>615</td>\n",
       "      <td>2011-01-28</td>\n",
       "      <td>1</td>\n",
       "      <td>20</td>\n",
       "      <td>0</td>\n",
       "      <td>5</td>\n",
       "      <td>2</td>\n",
       "      <td>0.24</td>\n",
       "      <td>0.2273</td>\n",
       "      <td>0.70</td>\n",
       "      <td>0.1940</td>\n",
       "      <td>1</td>\n",
       "      <td>61</td>\n",
       "      <td>62</td>\n",
       "    </tr>\n",
       "    <tr>\n",
       "      <th>386</th>\n",
       "      <td>616</td>\n",
       "      <td>2011-01-28</td>\n",
       "      <td>1</td>\n",
       "      <td>21</td>\n",
       "      <td>0</td>\n",
       "      <td>5</td>\n",
       "      <td>2</td>\n",
       "      <td>0.22</td>\n",
       "      <td>0.2273</td>\n",
       "      <td>0.75</td>\n",
       "      <td>0.1343</td>\n",
       "      <td>1</td>\n",
       "      <td>57</td>\n",
       "      <td>58</td>\n",
       "    </tr>\n",
       "    <tr>\n",
       "      <th>387</th>\n",
       "      <td>617</td>\n",
       "      <td>2011-01-28</td>\n",
       "      <td>1</td>\n",
       "      <td>22</td>\n",
       "      <td>0</td>\n",
       "      <td>5</td>\n",
       "      <td>1</td>\n",
       "      <td>0.24</td>\n",
       "      <td>0.2121</td>\n",
       "      <td>0.65</td>\n",
       "      <td>0.3582</td>\n",
       "      <td>0</td>\n",
       "      <td>26</td>\n",
       "      <td>26</td>\n",
       "    </tr>\n",
       "    <tr>\n",
       "      <th>388</th>\n",
       "      <td>618</td>\n",
       "      <td>2011-01-28</td>\n",
       "      <td>1</td>\n",
       "      <td>23</td>\n",
       "      <td>0</td>\n",
       "      <td>5</td>\n",
       "      <td>1</td>\n",
       "      <td>0.24</td>\n",
       "      <td>0.2273</td>\n",
       "      <td>0.60</td>\n",
       "      <td>0.2239</td>\n",
       "      <td>1</td>\n",
       "      <td>22</td>\n",
       "      <td>23</td>\n",
       "    </tr>\n",
       "    <tr>\n",
       "      <th>389</th>\n",
       "      <td>619</td>\n",
       "      <td>2011-01-29</td>\n",
       "      <td>1</td>\n",
       "      <td>0</td>\n",
       "      <td>0</td>\n",
       "      <td>6</td>\n",
       "      <td>1</td>\n",
       "      <td>0.22</td>\n",
       "      <td>0.1970</td>\n",
       "      <td>0.64</td>\n",
       "      <td>0.3582</td>\n",
       "      <td>2</td>\n",
       "      <td>26</td>\n",
       "      <td>28</td>\n",
       "    </tr>\n",
       "  </tbody>\n",
       "</table>\n",
       "<p>1000 rows × 14 columns</p>\n",
       "</div>"
      ],
      "text/plain": [
       "     instant     dteday  mnth  hr  holiday  weekday  weathersit  temp   atemp  \\\n",
       "0          1 2011-01-01     1   0        0        6           1  0.24  0.2879   \n",
       "1          2 2011-01-01     1   1        0        6           1  0.22  0.2727   \n",
       "2          3 2011-01-01     1   2        0        6           1  0.22  0.2727   \n",
       "3          4 2011-01-01     1   3        0        6           1  0.24  0.2879   \n",
       "4          5 2011-01-01     1   4        0        6           1  0.24  0.2879   \n",
       "..       ...        ...   ...  ..      ...      ...         ...   ...     ...   \n",
       "385      615 2011-01-28     1  20        0        5           2  0.24  0.2273   \n",
       "386      616 2011-01-28     1  21        0        5           2  0.22  0.2273   \n",
       "387      617 2011-01-28     1  22        0        5           1  0.24  0.2121   \n",
       "388      618 2011-01-28     1  23        0        5           1  0.24  0.2273   \n",
       "389      619 2011-01-29     1   0        0        6           1  0.22  0.1970   \n",
       "\n",
       "      hum  windspeed  casual  registered  cnt  \n",
       "0    0.81     0.0000       3          13   16  \n",
       "1    0.80     0.0000       8          32   40  \n",
       "2    0.80     0.0000       5          27   32  \n",
       "3    0.75     0.0000       3          10   13  \n",
       "4    0.75     0.0000       0           1    1  \n",
       "..    ...        ...     ...         ...  ...  \n",
       "385  0.70     0.1940       1          61   62  \n",
       "386  0.75     0.1343       1          57   58  \n",
       "387  0.65     0.3582       0          26   26  \n",
       "388  0.60     0.2239       1          22   23  \n",
       "389  0.64     0.3582       2          26   28  \n",
       "\n",
       "[1000 rows x 14 columns]"
      ]
     },
     "execution_count": 69,
     "metadata": {},
     "output_type": "execute_result"
    }
   ],
   "source": [
    "new_df"
   ]
  },
  {
   "cell_type": "code",
   "execution_count": 70,
   "id": "3469a03d",
   "metadata": {
    "scrolled": true
   },
   "outputs": [
    {
     "data": {
      "text/plain": [
       "(1000, 14)"
      ]
     },
     "execution_count": 70,
     "metadata": {},
     "output_type": "execute_result"
    }
   ],
   "source": [
    "#Checking the shape of data\n",
    "new_df.shape"
   ]
  },
  {
   "cell_type": "code",
   "execution_count": 71,
   "id": "8f8d655c",
   "metadata": {},
   "outputs": [
    {
     "name": "stdout",
     "output_type": "stream",
     "text": [
      "<class 'pandas.core.frame.DataFrame'>\n",
      "Int64Index: 1000 entries, 0 to 389\n",
      "Data columns (total 14 columns):\n",
      " #   Column      Non-Null Count  Dtype         \n",
      "---  ------      --------------  -----         \n",
      " 0   instant     1000 non-null   int64         \n",
      " 1   dteday      1000 non-null   datetime64[ns]\n",
      " 2   mnth        1000 non-null   int64         \n",
      " 3   hr          1000 non-null   int64         \n",
      " 4   holiday     1000 non-null   int64         \n",
      " 5   weekday     1000 non-null   int64         \n",
      " 6   weathersit  1000 non-null   int64         \n",
      " 7   temp        1000 non-null   float64       \n",
      " 8   atemp       1000 non-null   float64       \n",
      " 9   hum         1000 non-null   float64       \n",
      " 10  windspeed   1000 non-null   float64       \n",
      " 11  casual      1000 non-null   int64         \n",
      " 12  registered  1000 non-null   int64         \n",
      " 13  cnt         1000 non-null   int64         \n",
      "dtypes: datetime64[ns](1), float64(4), int64(9)\n",
      "memory usage: 117.2 KB\n"
     ]
    }
   ],
   "source": [
    "#checking the info and dtype of data\n",
    "new_df.info()"
   ]
  },
  {
   "cell_type": "code",
   "execution_count": 72,
   "id": "0b18d05c",
   "metadata": {},
   "outputs": [
    {
     "data": {
      "text/html": [
       "<div>\n",
       "<style scoped>\n",
       "    .dataframe tbody tr th:only-of-type {\n",
       "        vertical-align: middle;\n",
       "    }\n",
       "\n",
       "    .dataframe tbody tr th {\n",
       "        vertical-align: top;\n",
       "    }\n",
       "\n",
       "    .dataframe thead th {\n",
       "        text-align: right;\n",
       "    }\n",
       "</style>\n",
       "<table border=\"1\" class=\"dataframe\">\n",
       "  <thead>\n",
       "    <tr style=\"text-align: right;\">\n",
       "      <th></th>\n",
       "      <th>instant</th>\n",
       "      <th>mnth</th>\n",
       "      <th>hr</th>\n",
       "      <th>holiday</th>\n",
       "      <th>weekday</th>\n",
       "      <th>weathersit</th>\n",
       "      <th>temp</th>\n",
       "      <th>atemp</th>\n",
       "      <th>hum</th>\n",
       "      <th>windspeed</th>\n",
       "      <th>casual</th>\n",
       "      <th>registered</th>\n",
       "      <th>cnt</th>\n",
       "    </tr>\n",
       "  </thead>\n",
       "  <tbody>\n",
       "    <tr>\n",
       "      <th>count</th>\n",
       "      <td>1000.000000</td>\n",
       "      <td>1000.000000</td>\n",
       "      <td>1000.000000</td>\n",
       "      <td>1000.000000</td>\n",
       "      <td>1000.000000</td>\n",
       "      <td>1000.000000</td>\n",
       "      <td>1000.000000</td>\n",
       "      <td>1000.000000</td>\n",
       "      <td>1000.000000</td>\n",
       "      <td>1000.000000</td>\n",
       "      <td>1000.000000</td>\n",
       "      <td>1000.000000</td>\n",
       "      <td>1000.000000</td>\n",
       "    </tr>\n",
       "    <tr>\n",
       "      <th>mean</th>\n",
       "      <td>500.500000</td>\n",
       "      <td>1.312000</td>\n",
       "      <td>11.753000</td>\n",
       "      <td>0.024000</td>\n",
       "      <td>2.982000</td>\n",
       "      <td>1.480000</td>\n",
       "      <td>0.205900</td>\n",
       "      <td>0.211826</td>\n",
       "      <td>0.582480</td>\n",
       "      <td>0.194931</td>\n",
       "      <td>4.921000</td>\n",
       "      <td>53.383000</td>\n",
       "      <td>58.304000</td>\n",
       "    </tr>\n",
       "    <tr>\n",
       "      <th>std</th>\n",
       "      <td>288.819436</td>\n",
       "      <td>0.463542</td>\n",
       "      <td>6.899101</td>\n",
       "      <td>0.153126</td>\n",
       "      <td>2.091423</td>\n",
       "      <td>0.651171</td>\n",
       "      <td>0.078977</td>\n",
       "      <td>0.076290</td>\n",
       "      <td>0.187977</td>\n",
       "      <td>0.129126</td>\n",
       "      <td>7.643899</td>\n",
       "      <td>47.893968</td>\n",
       "      <td>50.985558</td>\n",
       "    </tr>\n",
       "    <tr>\n",
       "      <th>min</th>\n",
       "      <td>1.000000</td>\n",
       "      <td>1.000000</td>\n",
       "      <td>0.000000</td>\n",
       "      <td>0.000000</td>\n",
       "      <td>0.000000</td>\n",
       "      <td>1.000000</td>\n",
       "      <td>0.020000</td>\n",
       "      <td>0.000000</td>\n",
       "      <td>0.210000</td>\n",
       "      <td>0.000000</td>\n",
       "      <td>0.000000</td>\n",
       "      <td>0.000000</td>\n",
       "      <td>1.000000</td>\n",
       "    </tr>\n",
       "    <tr>\n",
       "      <th>25%</th>\n",
       "      <td>250.750000</td>\n",
       "      <td>1.000000</td>\n",
       "      <td>6.000000</td>\n",
       "      <td>0.000000</td>\n",
       "      <td>1.000000</td>\n",
       "      <td>1.000000</td>\n",
       "      <td>0.160000</td>\n",
       "      <td>0.166700</td>\n",
       "      <td>0.440000</td>\n",
       "      <td>0.104500</td>\n",
       "      <td>0.000000</td>\n",
       "      <td>15.000000</td>\n",
       "      <td>16.000000</td>\n",
       "    </tr>\n",
       "    <tr>\n",
       "      <th>50%</th>\n",
       "      <td>500.500000</td>\n",
       "      <td>1.000000</td>\n",
       "      <td>12.000000</td>\n",
       "      <td>0.000000</td>\n",
       "      <td>3.000000</td>\n",
       "      <td>1.000000</td>\n",
       "      <td>0.200000</td>\n",
       "      <td>0.212100</td>\n",
       "      <td>0.550000</td>\n",
       "      <td>0.164200</td>\n",
       "      <td>3.000000</td>\n",
       "      <td>46.000000</td>\n",
       "      <td>49.000000</td>\n",
       "    </tr>\n",
       "    <tr>\n",
       "      <th>75%</th>\n",
       "      <td>750.250000</td>\n",
       "      <td>2.000000</td>\n",
       "      <td>18.000000</td>\n",
       "      <td>0.000000</td>\n",
       "      <td>5.000000</td>\n",
       "      <td>2.000000</td>\n",
       "      <td>0.240000</td>\n",
       "      <td>0.257600</td>\n",
       "      <td>0.700000</td>\n",
       "      <td>0.283600</td>\n",
       "      <td>6.000000</td>\n",
       "      <td>74.000000</td>\n",
       "      <td>83.000000</td>\n",
       "    </tr>\n",
       "    <tr>\n",
       "      <th>max</th>\n",
       "      <td>1000.000000</td>\n",
       "      <td>2.000000</td>\n",
       "      <td>23.000000</td>\n",
       "      <td>1.000000</td>\n",
       "      <td>6.000000</td>\n",
       "      <td>4.000000</td>\n",
       "      <td>0.460000</td>\n",
       "      <td>0.454500</td>\n",
       "      <td>1.000000</td>\n",
       "      <td>0.582100</td>\n",
       "      <td>62.000000</td>\n",
       "      <td>247.000000</td>\n",
       "      <td>249.000000</td>\n",
       "    </tr>\n",
       "  </tbody>\n",
       "</table>\n",
       "</div>"
      ],
      "text/plain": [
       "           instant         mnth           hr      holiday      weekday  \\\n",
       "count  1000.000000  1000.000000  1000.000000  1000.000000  1000.000000   \n",
       "mean    500.500000     1.312000    11.753000     0.024000     2.982000   \n",
       "std     288.819436     0.463542     6.899101     0.153126     2.091423   \n",
       "min       1.000000     1.000000     0.000000     0.000000     0.000000   \n",
       "25%     250.750000     1.000000     6.000000     0.000000     1.000000   \n",
       "50%     500.500000     1.000000    12.000000     0.000000     3.000000   \n",
       "75%     750.250000     2.000000    18.000000     0.000000     5.000000   \n",
       "max    1000.000000     2.000000    23.000000     1.000000     6.000000   \n",
       "\n",
       "        weathersit         temp        atemp          hum    windspeed  \\\n",
       "count  1000.000000  1000.000000  1000.000000  1000.000000  1000.000000   \n",
       "mean      1.480000     0.205900     0.211826     0.582480     0.194931   \n",
       "std       0.651171     0.078977     0.076290     0.187977     0.129126   \n",
       "min       1.000000     0.020000     0.000000     0.210000     0.000000   \n",
       "25%       1.000000     0.160000     0.166700     0.440000     0.104500   \n",
       "50%       1.000000     0.200000     0.212100     0.550000     0.164200   \n",
       "75%       2.000000     0.240000     0.257600     0.700000     0.283600   \n",
       "max       4.000000     0.460000     0.454500     1.000000     0.582100   \n",
       "\n",
       "            casual   registered          cnt  \n",
       "count  1000.000000  1000.000000  1000.000000  \n",
       "mean      4.921000    53.383000    58.304000  \n",
       "std       7.643899    47.893968    50.985558  \n",
       "min       0.000000     0.000000     1.000000  \n",
       "25%       0.000000    15.000000    16.000000  \n",
       "50%       3.000000    46.000000    49.000000  \n",
       "75%       6.000000    74.000000    83.000000  \n",
       "max      62.000000   247.000000   249.000000  "
      ]
     },
     "execution_count": 72,
     "metadata": {},
     "output_type": "execute_result"
    }
   ],
   "source": [
    "#Checking the statical condition of data\n",
    "new_df.describe()"
   ]
  },
  {
   "cell_type": "code",
   "execution_count": 73,
   "id": "a60d5d72",
   "metadata": {
    "scrolled": true
   },
   "outputs": [
    {
     "data": {
      "text/plain": [
       "Index(['instant', 'dteday', 'mnth', 'hr', 'holiday', 'weekday', 'weathersit',\n",
       "       'temp', 'atemp', 'hum', 'windspeed', 'casual', 'registered', 'cnt'],\n",
       "      dtype='object')"
      ]
     },
     "execution_count": 73,
     "metadata": {},
     "output_type": "execute_result"
    }
   ],
   "source": [
    "#checking the columns\n",
    "new_df.columns"
   ]
  },
  {
   "cell_type": "code",
   "execution_count": 74,
   "id": "9591443b",
   "metadata": {},
   "outputs": [
    {
     "data": {
      "text/plain": [
       "instant       0\n",
       "dteday        0\n",
       "mnth          0\n",
       "hr            0\n",
       "holiday       0\n",
       "weekday       0\n",
       "weathersit    0\n",
       "temp          0\n",
       "atemp         0\n",
       "hum           0\n",
       "windspeed     0\n",
       "casual        0\n",
       "registered    0\n",
       "cnt           0\n",
       "dtype: int64"
      ]
     },
     "execution_count": 74,
     "metadata": {},
     "output_type": "execute_result"
    }
   ],
   "source": [
    "#Checking the missing values in concate df\n",
    "new_df.isna().sum()"
   ]
  },
  {
   "cell_type": "code",
   "execution_count": 75,
   "id": "17946985",
   "metadata": {},
   "outputs": [
    {
     "data": {
      "text/plain": [
       "0    976\n",
       "1     24\n",
       "Name: holiday, dtype: int64"
      ]
     },
     "execution_count": 75,
     "metadata": {},
     "output_type": "execute_result"
    }
   ],
   "source": [
    "#checking the value count for holiday column\n",
    "new_df['holiday'].value_counts()"
   ]
  },
  {
   "cell_type": "markdown",
   "id": "a289ba28",
   "metadata": {},
   "source": [
    "# Skewness"
   ]
  },
  {
   "cell_type": "code",
   "execution_count": 76,
   "id": "67742dca",
   "metadata": {
    "scrolled": true
   },
   "outputs": [
    {
     "data": {
      "text/plain": [
       "instant       0.000000\n",
       "mnth          0.812772\n",
       "hr           -0.063524\n",
       "holiday       6.229578\n",
       "weekday       0.021925\n",
       "weathersit    1.044098\n",
       "temp          0.547997\n",
       "atemp         0.435927\n",
       "hum           0.436893\n",
       "windspeed     0.433675\n",
       "casual        3.414105\n",
       "registered    1.296723\n",
       "cnt           1.137709\n",
       "dtype: float64"
      ]
     },
     "execution_count": 76,
     "metadata": {},
     "output_type": "execute_result"
    }
   ],
   "source": [
    "new_df.skew(axis=0,skipna=True)"
   ]
  },
  {
   "cell_type": "markdown",
   "id": "2395f380",
   "metadata": {},
   "source": [
    "# Correlation"
   ]
  },
  {
   "cell_type": "code",
   "execution_count": 77,
   "id": "f1c0d3ec",
   "metadata": {},
   "outputs": [
    {
     "data": {
      "text/html": [
       "<div>\n",
       "<style scoped>\n",
       "    .dataframe tbody tr th:only-of-type {\n",
       "        vertical-align: middle;\n",
       "    }\n",
       "\n",
       "    .dataframe tbody tr th {\n",
       "        vertical-align: top;\n",
       "    }\n",
       "\n",
       "    .dataframe thead th {\n",
       "        text-align: right;\n",
       "    }\n",
       "</style>\n",
       "<table border=\"1\" class=\"dataframe\">\n",
       "  <thead>\n",
       "    <tr style=\"text-align: right;\">\n",
       "      <th></th>\n",
       "      <th>instant</th>\n",
       "      <th>mnth</th>\n",
       "      <th>hr</th>\n",
       "      <th>holiday</th>\n",
       "      <th>weekday</th>\n",
       "      <th>weathersit</th>\n",
       "      <th>temp</th>\n",
       "      <th>atemp</th>\n",
       "      <th>hum</th>\n",
       "      <th>windspeed</th>\n",
       "      <th>casual</th>\n",
       "      <th>registered</th>\n",
       "      <th>cnt</th>\n",
       "    </tr>\n",
       "  </thead>\n",
       "  <tbody>\n",
       "    <tr>\n",
       "      <th>instant</th>\n",
       "      <td>1.000000</td>\n",
       "      <td>0.802477</td>\n",
       "      <td>0.000060</td>\n",
       "      <td>-0.063013</td>\n",
       "      <td>0.008157</td>\n",
       "      <td>0.030439</td>\n",
       "      <td>0.023406</td>\n",
       "      <td>0.077546</td>\n",
       "      <td>0.062116</td>\n",
       "      <td>-0.057837</td>\n",
       "      <td>0.071259</td>\n",
       "      <td>0.074993</td>\n",
       "      <td>0.081129</td>\n",
       "    </tr>\n",
       "    <tr>\n",
       "      <th>mnth</th>\n",
       "      <td>0.802477</td>\n",
       "      <td>1.000000</td>\n",
       "      <td>-0.025646</td>\n",
       "      <td>-0.105600</td>\n",
       "      <td>0.034710</td>\n",
       "      <td>0.014061</td>\n",
       "      <td>0.159660</td>\n",
       "      <td>0.192216</td>\n",
       "      <td>0.066587</td>\n",
       "      <td>-0.029383</td>\n",
       "      <td>0.088326</td>\n",
       "      <td>0.072660</td>\n",
       "      <td>0.081496</td>\n",
       "    </tr>\n",
       "    <tr>\n",
       "      <th>hr</th>\n",
       "      <td>0.000060</td>\n",
       "      <td>-0.025646</td>\n",
       "      <td>1.000000</td>\n",
       "      <td>-0.005753</td>\n",
       "      <td>0.007531</td>\n",
       "      <td>-0.055802</td>\n",
       "      <td>0.203512</td>\n",
       "      <td>0.148524</td>\n",
       "      <td>-0.194853</td>\n",
       "      <td>0.116640</td>\n",
       "      <td>0.204476</td>\n",
       "      <td>0.357042</td>\n",
       "      <td>0.366047</td>\n",
       "    </tr>\n",
       "    <tr>\n",
       "      <th>holiday</th>\n",
       "      <td>-0.063013</td>\n",
       "      <td>-0.105600</td>\n",
       "      <td>-0.005753</td>\n",
       "      <td>1.000000</td>\n",
       "      <td>-0.148682</td>\n",
       "      <td>0.165443</td>\n",
       "      <td>-0.059728</td>\n",
       "      <td>-0.072091</td>\n",
       "      <td>-0.037542</td>\n",
       "      <td>-0.001111</td>\n",
       "      <td>-0.000944</td>\n",
       "      <td>-0.054350</td>\n",
       "      <td>-0.051196</td>\n",
       "    </tr>\n",
       "    <tr>\n",
       "      <th>weekday</th>\n",
       "      <td>0.008157</td>\n",
       "      <td>0.034710</td>\n",
       "      <td>0.007531</td>\n",
       "      <td>-0.148682</td>\n",
       "      <td>1.000000</td>\n",
       "      <td>0.060007</td>\n",
       "      <td>-0.081776</td>\n",
       "      <td>-0.051646</td>\n",
       "      <td>0.062469</td>\n",
       "      <td>-0.056754</td>\n",
       "      <td>-0.047363</td>\n",
       "      <td>0.020505</td>\n",
       "      <td>0.012161</td>\n",
       "    </tr>\n",
       "    <tr>\n",
       "      <th>weathersit</th>\n",
       "      <td>0.030439</td>\n",
       "      <td>0.014061</td>\n",
       "      <td>-0.055802</td>\n",
       "      <td>0.165443</td>\n",
       "      <td>0.060007</td>\n",
       "      <td>1.000000</td>\n",
       "      <td>0.106041</td>\n",
       "      <td>0.136962</td>\n",
       "      <td>0.539402</td>\n",
       "      <td>-0.177655</td>\n",
       "      <td>-0.096346</td>\n",
       "      <td>-0.119234</td>\n",
       "      <td>-0.126448</td>\n",
       "    </tr>\n",
       "    <tr>\n",
       "      <th>temp</th>\n",
       "      <td>0.023406</td>\n",
       "      <td>0.159660</td>\n",
       "      <td>0.203512</td>\n",
       "      <td>-0.059728</td>\n",
       "      <td>-0.081776</td>\n",
       "      <td>0.106041</td>\n",
       "      <td>1.000000</td>\n",
       "      <td>0.909940</td>\n",
       "      <td>0.080720</td>\n",
       "      <td>0.122625</td>\n",
       "      <td>0.470221</td>\n",
       "      <td>0.169045</td>\n",
       "      <td>0.229292</td>\n",
       "    </tr>\n",
       "    <tr>\n",
       "      <th>atemp</th>\n",
       "      <td>0.077546</td>\n",
       "      <td>0.192216</td>\n",
       "      <td>0.148524</td>\n",
       "      <td>-0.072091</td>\n",
       "      <td>-0.051646</td>\n",
       "      <td>0.136962</td>\n",
       "      <td>0.909940</td>\n",
       "      <td>1.000000</td>\n",
       "      <td>0.192440</td>\n",
       "      <td>-0.212119</td>\n",
       "      <td>0.423553</td>\n",
       "      <td>0.138231</td>\n",
       "      <td>0.193349</td>\n",
       "    </tr>\n",
       "    <tr>\n",
       "      <th>hum</th>\n",
       "      <td>0.062116</td>\n",
       "      <td>0.066587</td>\n",
       "      <td>-0.194853</td>\n",
       "      <td>-0.037542</td>\n",
       "      <td>0.062469</td>\n",
       "      <td>0.539402</td>\n",
       "      <td>0.080720</td>\n",
       "      <td>0.192440</td>\n",
       "      <td>1.000000</td>\n",
       "      <td>-0.385550</td>\n",
       "      <td>-0.259407</td>\n",
       "      <td>-0.229370</td>\n",
       "      <td>-0.254353</td>\n",
       "    </tr>\n",
       "    <tr>\n",
       "      <th>windspeed</th>\n",
       "      <td>-0.057837</td>\n",
       "      <td>-0.029383</td>\n",
       "      <td>0.116640</td>\n",
       "      <td>-0.001111</td>\n",
       "      <td>-0.056754</td>\n",
       "      <td>-0.177655</td>\n",
       "      <td>0.122625</td>\n",
       "      <td>-0.212119</td>\n",
       "      <td>-0.385550</td>\n",
       "      <td>1.000000</td>\n",
       "      <td>0.129392</td>\n",
       "      <td>0.090059</td>\n",
       "      <td>0.103997</td>\n",
       "    </tr>\n",
       "    <tr>\n",
       "      <th>casual</th>\n",
       "      <td>0.071259</td>\n",
       "      <td>0.088326</td>\n",
       "      <td>0.204476</td>\n",
       "      <td>-0.000944</td>\n",
       "      <td>-0.047363</td>\n",
       "      <td>-0.096346</td>\n",
       "      <td>0.470221</td>\n",
       "      <td>0.423553</td>\n",
       "      <td>-0.259407</td>\n",
       "      <td>0.129392</td>\n",
       "      <td>1.000000</td>\n",
       "      <td>0.337706</td>\n",
       "      <td>0.467151</td>\n",
       "    </tr>\n",
       "    <tr>\n",
       "      <th>registered</th>\n",
       "      <td>0.074993</td>\n",
       "      <td>0.072660</td>\n",
       "      <td>0.357042</td>\n",
       "      <td>-0.054350</td>\n",
       "      <td>0.020505</td>\n",
       "      <td>-0.119234</td>\n",
       "      <td>0.169045</td>\n",
       "      <td>0.138231</td>\n",
       "      <td>-0.229370</td>\n",
       "      <td>0.090059</td>\n",
       "      <td>0.337706</td>\n",
       "      <td>1.000000</td>\n",
       "      <td>0.989993</td>\n",
       "    </tr>\n",
       "    <tr>\n",
       "      <th>cnt</th>\n",
       "      <td>0.081129</td>\n",
       "      <td>0.081496</td>\n",
       "      <td>0.366047</td>\n",
       "      <td>-0.051196</td>\n",
       "      <td>0.012161</td>\n",
       "      <td>-0.126448</td>\n",
       "      <td>0.229292</td>\n",
       "      <td>0.193349</td>\n",
       "      <td>-0.254353</td>\n",
       "      <td>0.103997</td>\n",
       "      <td>0.467151</td>\n",
       "      <td>0.989993</td>\n",
       "      <td>1.000000</td>\n",
       "    </tr>\n",
       "  </tbody>\n",
       "</table>\n",
       "</div>"
      ],
      "text/plain": [
       "             instant      mnth        hr   holiday   weekday  weathersit  \\\n",
       "instant     1.000000  0.802477  0.000060 -0.063013  0.008157    0.030439   \n",
       "mnth        0.802477  1.000000 -0.025646 -0.105600  0.034710    0.014061   \n",
       "hr          0.000060 -0.025646  1.000000 -0.005753  0.007531   -0.055802   \n",
       "holiday    -0.063013 -0.105600 -0.005753  1.000000 -0.148682    0.165443   \n",
       "weekday     0.008157  0.034710  0.007531 -0.148682  1.000000    0.060007   \n",
       "weathersit  0.030439  0.014061 -0.055802  0.165443  0.060007    1.000000   \n",
       "temp        0.023406  0.159660  0.203512 -0.059728 -0.081776    0.106041   \n",
       "atemp       0.077546  0.192216  0.148524 -0.072091 -0.051646    0.136962   \n",
       "hum         0.062116  0.066587 -0.194853 -0.037542  0.062469    0.539402   \n",
       "windspeed  -0.057837 -0.029383  0.116640 -0.001111 -0.056754   -0.177655   \n",
       "casual      0.071259  0.088326  0.204476 -0.000944 -0.047363   -0.096346   \n",
       "registered  0.074993  0.072660  0.357042 -0.054350  0.020505   -0.119234   \n",
       "cnt         0.081129  0.081496  0.366047 -0.051196  0.012161   -0.126448   \n",
       "\n",
       "                temp     atemp       hum  windspeed    casual  registered  \\\n",
       "instant     0.023406  0.077546  0.062116  -0.057837  0.071259    0.074993   \n",
       "mnth        0.159660  0.192216  0.066587  -0.029383  0.088326    0.072660   \n",
       "hr          0.203512  0.148524 -0.194853   0.116640  0.204476    0.357042   \n",
       "holiday    -0.059728 -0.072091 -0.037542  -0.001111 -0.000944   -0.054350   \n",
       "weekday    -0.081776 -0.051646  0.062469  -0.056754 -0.047363    0.020505   \n",
       "weathersit  0.106041  0.136962  0.539402  -0.177655 -0.096346   -0.119234   \n",
       "temp        1.000000  0.909940  0.080720   0.122625  0.470221    0.169045   \n",
       "atemp       0.909940  1.000000  0.192440  -0.212119  0.423553    0.138231   \n",
       "hum         0.080720  0.192440  1.000000  -0.385550 -0.259407   -0.229370   \n",
       "windspeed   0.122625 -0.212119 -0.385550   1.000000  0.129392    0.090059   \n",
       "casual      0.470221  0.423553 -0.259407   0.129392  1.000000    0.337706   \n",
       "registered  0.169045  0.138231 -0.229370   0.090059  0.337706    1.000000   \n",
       "cnt         0.229292  0.193349 -0.254353   0.103997  0.467151    0.989993   \n",
       "\n",
       "                 cnt  \n",
       "instant     0.081129  \n",
       "mnth        0.081496  \n",
       "hr          0.366047  \n",
       "holiday    -0.051196  \n",
       "weekday     0.012161  \n",
       "weathersit -0.126448  \n",
       "temp        0.229292  \n",
       "atemp       0.193349  \n",
       "hum        -0.254353  \n",
       "windspeed   0.103997  \n",
       "casual      0.467151  \n",
       "registered  0.989993  \n",
       "cnt         1.000000  "
      ]
     },
     "execution_count": 77,
     "metadata": {},
     "output_type": "execute_result"
    }
   ],
   "source": [
    "new_df.corr()"
   ]
  },
  {
   "cell_type": "markdown",
   "id": "e214ca0f",
   "metadata": {},
   "source": [
    "# IQR & BOXPLOT FOR 'temp' COLUMN"
   ]
  },
  {
   "cell_type": "code",
   "execution_count": 78,
   "id": "752842f7",
   "metadata": {},
   "outputs": [
    {
     "name": "stdout",
     "output_type": "stream",
     "text": [
      "Q1 : 0.16\n",
      "Q2 : 0.2\n",
      "Q3 : 0.24\n",
      "median : 0.2\n",
      "Upper Tail : 0.36\n",
      "Lower Tail : 0.04000000000000002\n",
      "IQR: 0.07999999999999999\n"
     ]
    }
   ],
   "source": [
    "#IQR for atemp column\n",
    "q1 = new_df['temp'].quantile(0.25)\n",
    "q2 = new_df['temp'].quantile(0.50)\n",
    "q3 = new_df['temp'].quantile(0.75)\n",
    "median =  new_df['temp'].median()\n",
    "print(\"Q1 :\",q1)\n",
    "print(\"Q2 :\",q2)\n",
    "print(\"Q3 :\",q3)\n",
    "print(\"median :\",median)\n",
    "\n",
    "iqr = q3 - q1\n",
    "\n",
    "upper_tail = q3 + 1.5*iqr\n",
    "lower_tail = q1 - 1.5*iqr\n",
    "print(\"Upper Tail :\",upper_tail)\n",
    "print(\"Lower Tail :\",lower_tail)\n",
    "print(\"IQR:\",iqr)"
   ]
  },
  {
   "cell_type": "code",
   "execution_count": 79,
   "id": "b4c80844",
   "metadata": {},
   "outputs": [
    {
     "data": {
      "image/png": "[encoded data removed]",
      "text/plain": [
       "<Figure size 640x480 with 1 Axes>"
      ]
     },
     "metadata": {},
     "output_type": "display_data"
    }
   ],
   "source": [
    "#Plotting the boxplot\n",
    "sns.boxplot(new_df,x='temp')\n",
    "plt.show()"
   ]
  },
  {
   "cell_type": "code",
   "execution_count": 80,
   "id": "f61ebcc2",
   "metadata": {},
   "outputs": [
    {
     "data": {
      "text/plain": [
       "0.2"
      ]
     },
     "execution_count": 80,
     "metadata": {},
     "output_type": "execute_result"
    }
   ],
   "source": [
    "#imputing the outliers\n",
    "median_temp = new_df.loc[(new_df['temp'] <= upper_tail) & \n",
    "                            (new_df['temp'] >= lower_tail),'temp'].median()\n",
    "    \n",
    "median_temp"
   ]
  },
  {
   "cell_type": "code",
   "execution_count": 81,
   "id": "4b5e5ff7",
   "metadata": {},
   "outputs": [],
   "source": [
    "#imputing the outliers by median atemp\n",
    "new_df.loc[(new_df['temp'] > upper_tail) | (new_df['temp'] < lower_tail),'temp'] = median_temp"
   ]
  },
  {
   "cell_type": "code",
   "execution_count": 82,
   "id": "1f84ed66",
   "metadata": {},
   "outputs": [
    {
     "data": {
      "image/png": "[encoded data removed]",
      "text/plain": [
       "<Figure size 640x480 with 1 Axes>"
      ]
     },
     "metadata": {},
     "output_type": "display_data"
    }
   ],
   "source": [
    "#again plotting the boxplot after imputation\n",
    "sns.boxplot(new_df,x='temp')\n",
    "plt.show()"
   ]
  },
  {
   "cell_type": "markdown",
   "id": "b47d180f",
   "metadata": {},
   "source": [
    "# IQR & BOXPLOT FOR 'atemp' COLUMN"
   ]
  },
  {
   "cell_type": "code",
   "execution_count": 83,
   "id": "7a673054",
   "metadata": {},
   "outputs": [
    {
     "name": "stdout",
     "output_type": "stream",
     "text": [
      "Q1 : 0.1667\n",
      "Q2 : 0.2121\n",
      "Q3 : 0.2576\n",
      "median : 0.2121\n",
      "Upper Tail : 0.39395\n",
      "Lower Tail : 0.03034999999999996\n",
      "IQR: 0.09090000000000001\n"
     ]
    }
   ],
   "source": [
    "#IQR for atemp column\n",
    "q1 = new_df['atemp'].quantile(0.25)\n",
    "q2 = new_df['atemp'].quantile(0.50)\n",
    "q3 = new_df['atemp'].quantile(0.75)\n",
    "median =  new_df['atemp'].median()\n",
    "print(\"Q1 :\",q1)\n",
    "print(\"Q2 :\",q2)\n",
    "print(\"Q3 :\",q3)\n",
    "print(\"median :\",median)\n",
    "\n",
    "iqr = q3 - q1\n",
    "\n",
    "upper_tail = q3 + 1.5*iqr\n",
    "lower_tail = q1 - 1.5*iqr\n",
    "print(\"Upper Tail :\",upper_tail)\n",
    "print(\"Lower Tail :\",lower_tail)\n",
    "print(\"IQR:\",iqr)"
   ]
  },
  {
   "cell_type": "code",
   "execution_count": 84,
   "id": "c9194d27",
   "metadata": {},
   "outputs": [
    {
     "data": {
      "image/png": "[encoded data removed]",
      "text/plain": [
       "<Figure size 640x480 with 1 Axes>"
      ]
     },
     "metadata": {},
     "output_type": "display_data"
    }
   ],
   "source": [
    "#Plotting the boxplot\n",
    "sns.boxplot(new_df,x='atemp')\n",
    "plt.show()"
   ]
  },
  {
   "cell_type": "code",
   "execution_count": 85,
   "id": "e0a5cf67",
   "metadata": {},
   "outputs": [
    {
     "data": {
      "text/plain": [
       "0.2121"
      ]
     },
     "execution_count": 85,
     "metadata": {},
     "output_type": "execute_result"
    }
   ],
   "source": [
    "#imputing the outliers\n",
    "median_atemp = new_df.loc[(new_df['atemp'] <= upper_tail) & \n",
    "                            (new_df['atemp'] >= lower_tail),'atemp'].median()\n",
    "    \n",
    "median_atemp"
   ]
  },
  {
   "cell_type": "code",
   "execution_count": 86,
   "id": "448c8daa",
   "metadata": {},
   "outputs": [
    {
     "data": {
      "text/plain": [
       "0.20745264213383097"
      ]
     },
     "execution_count": 86,
     "metadata": {},
     "output_type": "execute_result"
    }
   ],
   "source": [
    "#imputing the outliers\n",
    "mean_atemp = new_df.loc[(new_df['atemp'] <= upper_tail) & \n",
    "                            (new_df['atemp'] >= lower_tail),'atemp'].mean()\n",
    "    \n",
    "mean_atemp"
   ]
  },
  {
   "cell_type": "code",
   "execution_count": 87,
   "id": "8af3ac0e",
   "metadata": {},
   "outputs": [],
   "source": [
    "#imputing the outliers by median atemp\n",
    "new_df.loc[(new_df['atemp'] > upper_tail) | (new_df['atemp'] < lower_tail),'atemp'] = mean_atemp"
   ]
  },
  {
   "cell_type": "code",
   "execution_count": 88,
   "id": "ff55d039",
   "metadata": {},
   "outputs": [
    {
     "data": {
      "image/png": "[encoded data removed]",
      "text/plain": [
       "<Figure size 640x480 with 1 Axes>"
      ]
     },
     "metadata": {},
     "output_type": "display_data"
    }
   ],
   "source": [
    "#again plotting the boxplot after imputation\n",
    "sns.boxplot(new_df,x='atemp')\n",
    "plt.show()"
   ]
  },
  {
   "cell_type": "markdown",
   "id": "f87ef0f9",
   "metadata": {},
   "source": [
    "# IQR & BOXPLOT FOR 'windspeed' COLUMN"
   ]
  },
  {
   "cell_type": "code",
   "execution_count": 89,
   "id": "f013136e",
   "metadata": {},
   "outputs": [
    {
     "name": "stdout",
     "output_type": "stream",
     "text": [
      "Q1 : 0.1045\n",
      "Q2 : 0.1642\n",
      "Q3 : 0.2836\n",
      "median : 0.1642\n",
      "Upper Tail : 0.5522500000000001\n",
      "Lower Tail : -0.16415000000000007\n",
      "IQR: 0.17910000000000004\n"
     ]
    }
   ],
   "source": [
    "#IQR for windspeed column\n",
    "q1 = new_df['windspeed'].quantile(0.25)\n",
    "q2 = new_df['windspeed'].quantile(0.50)\n",
    "q3 = new_df['windspeed'].quantile(0.75)\n",
    "median =  new_df['windspeed'].median()\n",
    "print(\"Q1 :\",q1)\n",
    "print(\"Q2 :\",q2)\n",
    "print(\"Q3 :\",q3)\n",
    "print(\"median :\",median)\n",
    "\n",
    "iqr = q3 - q1\n",
    "\n",
    "upper_tail = q3 + 1.5*iqr\n",
    "lower_tail = q1 - 1.5*iqr\n",
    "print(\"Upper Tail :\",upper_tail)\n",
    "print(\"Lower Tail :\",lower_tail)\n",
    "print(\"IQR:\",iqr)"
   ]
  },
  {
   "cell_type": "code",
   "execution_count": 90,
   "id": "b1851c0f",
   "metadata": {},
   "outputs": [
    {
     "data": {
      "image/png": "[encoded data removed]",
      "text/plain": [
       "<Figure size 640x480 with 1 Axes>"
      ]
     },
     "metadata": {},
     "output_type": "display_data"
    }
   ],
   "source": [
    "#Plotting the boxplot\n",
    "sns.boxplot(new_df,x='windspeed')\n",
    "plt.show()"
   ]
  },
  {
   "cell_type": "code",
   "execution_count": 91,
   "id": "d3d5262a",
   "metadata": {},
   "outputs": [
    {
     "data": {
      "text/plain": [
       "0.1642"
      ]
     },
     "execution_count": 91,
     "metadata": {},
     "output_type": "execute_result"
    }
   ],
   "source": [
    "#imputing the outliers\n",
    "median_windspeed = new_df.loc[(new_df['windspeed'] <= upper_tail) & \n",
    "                            (new_df['windspeed'] >= lower_tail),'windspeed'].median()\n",
    "    \n",
    "median_windspeed"
   ]
  },
  {
   "cell_type": "code",
   "execution_count": 92,
   "id": "dddd7941",
   "metadata": {},
   "outputs": [],
   "source": [
    "#imputing the outliers by median atemp\n",
    "new_df.loc[(new_df['windspeed'] > upper_tail) | (new_df['windspeed'] < lower_tail),'windspeed'] = median_windspeed"
   ]
  },
  {
   "cell_type": "code",
   "execution_count": 93,
   "id": "ec4f47f8",
   "metadata": {},
   "outputs": [
    {
     "data": {
      "image/png": "[encoded data removed]",
      "text/plain": [
       "<Figure size 640x480 with 1 Axes>"
      ]
     },
     "metadata": {},
     "output_type": "display_data"
    }
   ],
   "source": [
    "#again plotting the boxplot after imputation\n",
    "sns.boxplot(new_df,x='windspeed')\n",
    "plt.show()"
   ]
  }
 ],
 "metadata": {
  "kernelspec": {
   "display_name": "Python 3 (ipykernel)",
   "language": "python",
   "name": "python3"
  },
  "language_info": {
   "codemirror_mode": {
    "name": "ipython",
    "version": 3
   },
   "file_extension": ".py",
   "mimetype": "text/x-python",
   "name": "python",
   "nbconvert_exporter": "python",
   "pygments_lexer": "ipython3",
   "version": "3.10.9"
  }
 },
 "nbformat": 4,
 "nbformat_minor": 5
}
